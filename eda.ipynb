{
 "cells": [
  {
   "attachments": {},
   "cell_type": "markdown",
   "metadata": {},
   "source": [
    "# EDA"
   ]
  },
  {
   "cell_type": "code",
   "execution_count": 1,
   "metadata": {},
   "outputs": [],
   "source": [
    "import pandas as pd\n",
    "import seaborn as sn\n",
    "import matplotlib.pyplot as plt"
   ]
  },
  {
   "cell_type": "code",
   "execution_count": 2,
   "metadata": {},
   "outputs": [
    {
     "data": {
      "text/html": [
       "<div>\n",
       "<style scoped>\n",
       "    .dataframe tbody tr th:only-of-type {\n",
       "        vertical-align: middle;\n",
       "    }\n",
       "\n",
       "    .dataframe tbody tr th {\n",
       "        vertical-align: top;\n",
       "    }\n",
       "\n",
       "    .dataframe thead th {\n",
       "        text-align: right;\n",
       "    }\n",
       "</style>\n",
       "<table border=\"1\" class=\"dataframe\">\n",
       "  <thead>\n",
       "    <tr style=\"text-align: right;\">\n",
       "      <th></th>\n",
       "      <th>Decade</th>\n",
       "      <th>Year</th>\n",
       "      <th>Date</th>\n",
       "      <th>Location</th>\n",
       "      <th>Operator</th>\n",
       "      <th>manufacturer</th>\n",
       "      <th>Registration</th>\n",
       "      <th>Origin</th>\n",
       "      <th>Route</th>\n",
       "      <th>AC_Type</th>\n",
       "      <th>...</th>\n",
       "      <th>Crew_Aboard</th>\n",
       "      <th>Aboard_Aircraft</th>\n",
       "      <th>Passengers_Fatalities</th>\n",
       "      <th>Crew_Fatalities</th>\n",
       "      <th>Aboard_Fatalities</th>\n",
       "      <th>Ground_Fatalities</th>\n",
       "      <th>Total_Fatalites</th>\n",
       "      <th>Survivors</th>\n",
       "      <th>Latitude_DD</th>\n",
       "      <th>Longitude_DD</th>\n",
       "    </tr>\n",
       "  </thead>\n",
       "  <tbody>\n",
       "    <tr>\n",
       "      <th>0</th>\n",
       "      <td>1980</td>\n",
       "      <td>1987</td>\n",
       "      <td>1987-10-20</td>\n",
       "      <td>Indianapolis, Indiana</td>\n",
       "      <td>Military - U.S. Air Force</td>\n",
       "      <td>A-7D</td>\n",
       "      <td>Unknown</td>\n",
       "      <td>Pittsburgh, PA</td>\n",
       "      <td>Pittsburg, PA-  Nellis AFB</td>\n",
       "      <td>A-7D Corsair</td>\n",
       "      <td>...</td>\n",
       "      <td>11.0</td>\n",
       "      <td>11.0</td>\n",
       "      <td>0.0</td>\n",
       "      <td>10.0</td>\n",
       "      <td>10.0</td>\n",
       "      <td>10.0</td>\n",
       "      <td>20.0</td>\n",
       "      <td>1.0</td>\n",
       "      <td>NaN</td>\n",
       "      <td>NaN</td>\n",
       "    </tr>\n",
       "    <tr>\n",
       "      <th>1</th>\n",
       "      <td>1940</td>\n",
       "      <td>1946</td>\n",
       "      <td>1946-11-01</td>\n",
       "      <td>St Leger-la-Montagne, France</td>\n",
       "      <td>CTA Languedoc Roussillon</td>\n",
       "      <td>AAC-1</td>\n",
       "      <td>F-BCAD</td>\n",
       "      <td>Paris</td>\n",
       "      <td>Paris-  Toulouse-  Casablanca</td>\n",
       "      <td>AAC-1 Toucan</td>\n",
       "      <td>...</td>\n",
       "      <td>3.0</td>\n",
       "      <td>27.0</td>\n",
       "      <td>20.0</td>\n",
       "      <td>3.0</td>\n",
       "      <td>23.0</td>\n",
       "      <td>0.0</td>\n",
       "      <td>23.0</td>\n",
       "      <td>4.0</td>\n",
       "      <td>NaN</td>\n",
       "      <td>NaN</td>\n",
       "    </tr>\n",
       "    <tr>\n",
       "      <th>2</th>\n",
       "      <td>1920</td>\n",
       "      <td>1928</td>\n",
       "      <td>1928-06-14</td>\n",
       "      <td>Frankfurt, Germany</td>\n",
       "      <td>Deutsche Lufthansa</td>\n",
       "      <td>AEGK</td>\n",
       "      <td>D-74</td>\n",
       "      <td>Unknown</td>\n",
       "      <td>Unknown</td>\n",
       "      <td>AEGK</td>\n",
       "      <td>...</td>\n",
       "      <td>1.0</td>\n",
       "      <td>5.0</td>\n",
       "      <td>4.0</td>\n",
       "      <td>1.0</td>\n",
       "      <td>5.0</td>\n",
       "      <td>0.0</td>\n",
       "      <td>5.0</td>\n",
       "      <td>0.0</td>\n",
       "      <td>NaN</td>\n",
       "      <td>NaN</td>\n",
       "    </tr>\n",
       "    <tr>\n",
       "      <th>3</th>\n",
       "      <td>1950</td>\n",
       "      <td>1956</td>\n",
       "      <td>1956-04-09</td>\n",
       "      <td>Skilak Lake, Alaska</td>\n",
       "      <td>Cordova Airlines</td>\n",
       "      <td>Aero</td>\n",
       "      <td>B5386N</td>\n",
       "      <td>Anchorage, AK</td>\n",
       "      <td>Anchorage-  Seward</td>\n",
       "      <td>Aero Commander 520</td>\n",
       "      <td>...</td>\n",
       "      <td>1.0</td>\n",
       "      <td>6.0</td>\n",
       "      <td>5.0</td>\n",
       "      <td>1.0</td>\n",
       "      <td>6.0</td>\n",
       "      <td>0.0</td>\n",
       "      <td>6.0</td>\n",
       "      <td>0.0</td>\n",
       "      <td>NaN</td>\n",
       "      <td>NaN</td>\n",
       "    </tr>\n",
       "    <tr>\n",
       "      <th>4</th>\n",
       "      <td>1970</td>\n",
       "      <td>1971</td>\n",
       "      <td>1971-05-28</td>\n",
       "      <td>Roanoke, Virginia</td>\n",
       "      <td>Private</td>\n",
       "      <td>Aero</td>\n",
       "      <td>N601JJ</td>\n",
       "      <td>Atlanta</td>\n",
       "      <td>Atlanta, GA-  Martinsville, VA</td>\n",
       "      <td>Aero Commander 680E</td>\n",
       "      <td>...</td>\n",
       "      <td>1.0</td>\n",
       "      <td>6.0</td>\n",
       "      <td>5.0</td>\n",
       "      <td>1.0</td>\n",
       "      <td>6.0</td>\n",
       "      <td>0.0</td>\n",
       "      <td>6.0</td>\n",
       "      <td>0.0</td>\n",
       "      <td>NaN</td>\n",
       "      <td>NaN</td>\n",
       "    </tr>\n",
       "  </tbody>\n",
       "</table>\n",
       "<p>5 rows × 22 columns</p>\n",
       "</div>"
      ],
      "text/plain": [
       "   Decade  Year       Date                      Location  \\\n",
       "0    1980  1987 1987-10-20         Indianapolis, Indiana   \n",
       "1    1940  1946 1946-11-01  St Leger-la-Montagne, France   \n",
       "2    1920  1928 1928-06-14            Frankfurt, Germany   \n",
       "3    1950  1956 1956-04-09           Skilak Lake, Alaska   \n",
       "4    1970  1971 1971-05-28             Roanoke, Virginia   \n",
       "\n",
       "                    Operator manufacturer Registration          Origin  \\\n",
       "0  Military - U.S. Air Force         A-7D      Unknown  Pittsburgh, PA   \n",
       "1   CTA Languedoc Roussillon        AAC-1       F-BCAD           Paris   \n",
       "2         Deutsche Lufthansa         AEGK         D-74         Unknown   \n",
       "3           Cordova Airlines         Aero       B5386N   Anchorage, AK   \n",
       "4                    Private         Aero       N601JJ         Atlanta   \n",
       "\n",
       "                            Route              AC_Type  ... Crew_Aboard  \\\n",
       "0      Pittsburg, PA-  Nellis AFB         A-7D Corsair  ...        11.0   \n",
       "1   Paris-  Toulouse-  Casablanca         AAC-1 Toucan  ...         3.0   \n",
       "2                         Unknown                 AEGK  ...         1.0   \n",
       "3              Anchorage-  Seward   Aero Commander 520  ...         1.0   \n",
       "4  Atlanta, GA-  Martinsville, VA  Aero Commander 680E  ...         1.0   \n",
       "\n",
       "   Aboard_Aircraft  Passengers_Fatalities  Crew_Fatalities  Aboard_Fatalities  \\\n",
       "0             11.0                    0.0             10.0               10.0   \n",
       "1             27.0                   20.0              3.0               23.0   \n",
       "2              5.0                    4.0              1.0                5.0   \n",
       "3              6.0                    5.0              1.0                6.0   \n",
       "4              6.0                    5.0              1.0                6.0   \n",
       "\n",
       "   Ground_Fatalities  Total_Fatalites  Survivors  Latitude_DD  Longitude_DD  \n",
       "0               10.0             20.0        1.0          NaN           NaN  \n",
       "1                0.0             23.0        4.0          NaN           NaN  \n",
       "2                0.0              5.0        0.0          NaN           NaN  \n",
       "3                0.0              6.0        0.0          NaN           NaN  \n",
       "4                0.0              6.0        0.0          NaN           NaN  \n",
       "\n",
       "[5 rows x 22 columns]"
      ]
     },
     "execution_count": 2,
     "metadata": {},
     "output_type": "execute_result"
    }
   ],
   "source": [
    "#Let's import the cleaned file\n",
    "df = pd.read_excel('Data/Main_Data.xlsx')\n",
    "df.head()"
   ]
  },
  {
   "cell_type": "code",
   "execution_count": 3,
   "metadata": {},
   "outputs": [
    {
     "name": "stdout",
     "output_type": "stream",
     "text": [
      "<class 'pandas.core.frame.DataFrame'>\n",
      "RangeIndex: 5043 entries, 0 to 5042\n",
      "Data columns (total 22 columns):\n",
      " #   Column                 Non-Null Count  Dtype         \n",
      "---  ------                 --------------  -----         \n",
      " 0   Decade                 5043 non-null   int64         \n",
      " 1   Year                   5043 non-null   int64         \n",
      " 2   Date                   5043 non-null   datetime64[ns]\n",
      " 3   Location               5043 non-null   object        \n",
      " 4   Operator               5043 non-null   object        \n",
      " 5   manufacturer           5043 non-null   object        \n",
      " 6   Registration           5043 non-null   object        \n",
      " 7   Origin                 5043 non-null   object        \n",
      " 8   Route                  5043 non-null   object        \n",
      " 9   AC_Type                5043 non-null   object        \n",
      " 10  Summary                5043 non-null   object        \n",
      " 11  Passengers_Aboard      4820 non-null   float64       \n",
      " 12  Crew_Aboard            4822 non-null   float64       \n",
      " 13  Aboard_Aircraft        5026 non-null   float64       \n",
      " 14  Passengers_Fatalities  4805 non-null   float64       \n",
      " 15  Crew_Fatalities        4805 non-null   float64       \n",
      " 16  Aboard_Fatalities      5035 non-null   float64       \n",
      " 17  Ground_Fatalities      4998 non-null   float64       \n",
      " 18  Total_Fatalites        4998 non-null   float64       \n",
      " 19  Survivors              5026 non-null   float64       \n",
      " 20  Latitude_DD            685 non-null    float64       \n",
      " 21  Longitude_DD           685 non-null    float64       \n",
      "dtypes: datetime64[ns](1), float64(11), int64(2), object(8)\n",
      "memory usage: 866.9+ KB\n"
     ]
    }
   ],
   "source": [
    "#checking the data types\n",
    "df.info()"
   ]
  },
  {
   "attachments": {},
   "cell_type": "markdown",
   "metadata": {},
   "source": [
    "### percentage of missing values"
   ]
  },
  {
   "cell_type": "code",
   "execution_count": 4,
   "metadata": {},
   "outputs": [
    {
     "data": {
      "text/plain": [
       "Longitude_DD             86.416815\n",
       "Latitude_DD              86.416815\n",
       "Passengers_Fatalities     4.719413\n",
       "Crew_Fatalities           4.719413\n",
       "Passengers_Aboard         4.421971\n",
       "Crew_Aboard               4.382312\n",
       "Total_Fatalites           0.892326\n",
       "Ground_Fatalities         0.892326\n",
       "Aboard_Aircraft           0.337101\n",
       "Survivors                 0.337101\n",
       "Aboard_Fatalities         0.158636\n",
       "Operator                  0.000000\n",
       "Date                      0.000000\n",
       "Location                  0.000000\n",
       "manufacturer              0.000000\n",
       "Registration              0.000000\n",
       "Year                      0.000000\n",
       "Summary                   0.000000\n",
       "AC_Type                   0.000000\n",
       "Route                     0.000000\n",
       "Origin                    0.000000\n",
       "Decade                    0.000000\n",
       "dtype: float64"
      ]
     },
     "execution_count": 4,
     "metadata": {},
     "output_type": "execute_result"
    }
   ],
   "source": [
    "missing_data = df.isnull().sum() / len(df) *100\n",
    "missing_data.sort_values(ascending=False)"
   ]
  },
  {
   "attachments": {},
   "cell_type": "markdown",
   "metadata": {},
   "source": [
    "#### looks like we have a lot of occurences where the location is not known"
   ]
  },
  {
   "cell_type": "code",
   "execution_count": 5,
   "metadata": {},
   "outputs": [
    {
     "data": {
      "text/html": [
       "<div>\n",
       "<style scoped>\n",
       "    .dataframe tbody tr th:only-of-type {\n",
       "        vertical-align: middle;\n",
       "    }\n",
       "\n",
       "    .dataframe tbody tr th {\n",
       "        vertical-align: top;\n",
       "    }\n",
       "\n",
       "    .dataframe thead th {\n",
       "        text-align: right;\n",
       "    }\n",
       "</style>\n",
       "<table border=\"1\" class=\"dataframe\">\n",
       "  <thead>\n",
       "    <tr style=\"text-align: right;\">\n",
       "      <th></th>\n",
       "      <th>Decade</th>\n",
       "      <th>Year</th>\n",
       "      <th>Passengers_Aboard</th>\n",
       "      <th>Crew_Aboard</th>\n",
       "      <th>Aboard_Aircraft</th>\n",
       "      <th>Passengers_Fatalities</th>\n",
       "      <th>Crew_Fatalities</th>\n",
       "      <th>Aboard_Fatalities</th>\n",
       "      <th>Ground_Fatalities</th>\n",
       "      <th>Total_Fatalites</th>\n",
       "      <th>Survivors</th>\n",
       "      <th>Latitude_DD</th>\n",
       "      <th>Longitude_DD</th>\n",
       "    </tr>\n",
       "  </thead>\n",
       "  <tbody>\n",
       "    <tr>\n",
       "      <th>count</th>\n",
       "      <td>5043.000000</td>\n",
       "      <td>5043.000000</td>\n",
       "      <td>4820.000000</td>\n",
       "      <td>4822.000000</td>\n",
       "      <td>5026.000000</td>\n",
       "      <td>4805.000000</td>\n",
       "      <td>4805.000000</td>\n",
       "      <td>5035.000000</td>\n",
       "      <td>4998.000000</td>\n",
       "      <td>4998.000000</td>\n",
       "      <td>5026.000000</td>\n",
       "      <td>685.000000</td>\n",
       "      <td>685.000000</td>\n",
       "    </tr>\n",
       "    <tr>\n",
       "      <th>mean</th>\n",
       "      <td>1966.381122</td>\n",
       "      <td>1970.984731</td>\n",
       "      <td>26.906432</td>\n",
       "      <td>4.526752</td>\n",
       "      <td>31.132511</td>\n",
       "      <td>18.938189</td>\n",
       "      <td>3.585016</td>\n",
       "      <td>22.302085</td>\n",
       "      <td>1.717887</td>\n",
       "      <td>24.089236</td>\n",
       "      <td>8.805014</td>\n",
       "      <td>30.164963</td>\n",
       "      <td>-2.243981</td>\n",
       "    </tr>\n",
       "    <tr>\n",
       "      <th>std</th>\n",
       "      <td>24.979387</td>\n",
       "      <td>24.750520</td>\n",
       "      <td>44.003831</td>\n",
       "      <td>3.788049</td>\n",
       "      <td>45.435852</td>\n",
       "      <td>34.064868</td>\n",
       "      <td>3.180803</td>\n",
       "      <td>35.001043</td>\n",
       "      <td>55.308602</td>\n",
       "      <td>66.457303</td>\n",
       "      <td>30.591850</td>\n",
       "      <td>23.403421</td>\n",
       "      <td>77.465658</td>\n",
       "    </tr>\n",
       "    <tr>\n",
       "      <th>min</th>\n",
       "      <td>1900.000000</td>\n",
       "      <td>1908.000000</td>\n",
       "      <td>0.000000</td>\n",
       "      <td>0.000000</td>\n",
       "      <td>0.000000</td>\n",
       "      <td>0.000000</td>\n",
       "      <td>0.000000</td>\n",
       "      <td>0.000000</td>\n",
       "      <td>0.000000</td>\n",
       "      <td>0.000000</td>\n",
       "      <td>0.000000</td>\n",
       "      <td>-77.425000</td>\n",
       "      <td>-171.708056</td>\n",
       "    </tr>\n",
       "    <tr>\n",
       "      <th>25%</th>\n",
       "      <td>1950.000000</td>\n",
       "      <td>1951.000000</td>\n",
       "      <td>3.000000</td>\n",
       "      <td>2.000000</td>\n",
       "      <td>7.000000</td>\n",
       "      <td>1.000000</td>\n",
       "      <td>2.000000</td>\n",
       "      <td>4.000000</td>\n",
       "      <td>0.000000</td>\n",
       "      <td>4.000000</td>\n",
       "      <td>0.000000</td>\n",
       "      <td>18.006111</td>\n",
       "      <td>-75.991389</td>\n",
       "    </tr>\n",
       "    <tr>\n",
       "      <th>50%</th>\n",
       "      <td>1970.000000</td>\n",
       "      <td>1970.000000</td>\n",
       "      <td>12.000000</td>\n",
       "      <td>4.000000</td>\n",
       "      <td>16.000000</td>\n",
       "      <td>7.000000</td>\n",
       "      <td>3.000000</td>\n",
       "      <td>11.000000</td>\n",
       "      <td>0.000000</td>\n",
       "      <td>12.000000</td>\n",
       "      <td>0.000000</td>\n",
       "      <td>37.873333</td>\n",
       "      <td>5.163889</td>\n",
       "    </tr>\n",
       "    <tr>\n",
       "      <th>75%</th>\n",
       "      <td>1990.000000</td>\n",
       "      <td>1992.000000</td>\n",
       "      <td>30.000000</td>\n",
       "      <td>6.000000</td>\n",
       "      <td>35.000000</td>\n",
       "      <td>21.000000</td>\n",
       "      <td>5.000000</td>\n",
       "      <td>25.000000</td>\n",
       "      <td>0.000000</td>\n",
       "      <td>26.000000</td>\n",
       "      <td>4.000000</td>\n",
       "      <td>45.366667</td>\n",
       "      <td>48.350000</td>\n",
       "    </tr>\n",
       "    <tr>\n",
       "      <th>max</th>\n",
       "      <td>2020.000000</td>\n",
       "      <td>2023.000000</td>\n",
       "      <td>614.000000</td>\n",
       "      <td>83.000000</td>\n",
       "      <td>644.000000</td>\n",
       "      <td>560.000000</td>\n",
       "      <td>43.000000</td>\n",
       "      <td>583.000000</td>\n",
       "      <td>2750.000000</td>\n",
       "      <td>2842.000000</td>\n",
       "      <td>516.000000</td>\n",
       "      <td>78.214167</td>\n",
       "      <td>175.800000</td>\n",
       "    </tr>\n",
       "  </tbody>\n",
       "</table>\n",
       "</div>"
      ],
      "text/plain": [
       "            Decade         Year  Passengers_Aboard  Crew_Aboard  \\\n",
       "count  5043.000000  5043.000000        4820.000000  4822.000000   \n",
       "mean   1966.381122  1970.984731          26.906432     4.526752   \n",
       "std      24.979387    24.750520          44.003831     3.788049   \n",
       "min    1900.000000  1908.000000           0.000000     0.000000   \n",
       "25%    1950.000000  1951.000000           3.000000     2.000000   \n",
       "50%    1970.000000  1970.000000          12.000000     4.000000   \n",
       "75%    1990.000000  1992.000000          30.000000     6.000000   \n",
       "max    2020.000000  2023.000000         614.000000    83.000000   \n",
       "\n",
       "       Aboard_Aircraft  Passengers_Fatalities  Crew_Fatalities  \\\n",
       "count      5026.000000            4805.000000      4805.000000   \n",
       "mean         31.132511              18.938189         3.585016   \n",
       "std          45.435852              34.064868         3.180803   \n",
       "min           0.000000               0.000000         0.000000   \n",
       "25%           7.000000               1.000000         2.000000   \n",
       "50%          16.000000               7.000000         3.000000   \n",
       "75%          35.000000              21.000000         5.000000   \n",
       "max         644.000000             560.000000        43.000000   \n",
       "\n",
       "       Aboard_Fatalities  Ground_Fatalities  Total_Fatalites    Survivors  \\\n",
       "count        5035.000000        4998.000000      4998.000000  5026.000000   \n",
       "mean           22.302085           1.717887        24.089236     8.805014   \n",
       "std            35.001043          55.308602        66.457303    30.591850   \n",
       "min             0.000000           0.000000         0.000000     0.000000   \n",
       "25%             4.000000           0.000000         4.000000     0.000000   \n",
       "50%            11.000000           0.000000        12.000000     0.000000   \n",
       "75%            25.000000           0.000000        26.000000     4.000000   \n",
       "max           583.000000        2750.000000      2842.000000   516.000000   \n",
       "\n",
       "       Latitude_DD  Longitude_DD  \n",
       "count   685.000000    685.000000  \n",
       "mean     30.164963     -2.243981  \n",
       "std      23.403421     77.465658  \n",
       "min     -77.425000   -171.708056  \n",
       "25%      18.006111    -75.991389  \n",
       "50%      37.873333      5.163889  \n",
       "75%      45.366667     48.350000  \n",
       "max      78.214167    175.800000  "
      ]
     },
     "execution_count": 5,
     "metadata": {},
     "output_type": "execute_result"
    }
   ],
   "source": [
    "#quick overview on the numbers\n",
    "df.describe()"
   ]
  },
  {
   "cell_type": "code",
   "execution_count": 6,
   "metadata": {},
   "outputs": [
    {
     "data": {
      "text/plain": [
       "120398.0"
      ]
     },
     "execution_count": 6,
     "metadata": {},
     "output_type": "execute_result"
    }
   ],
   "source": [
    "# How many fatalities\n",
    "df['Total_Fatalites'].sum()"
   ]
  },
  {
   "attachments": {},
   "cell_type": "markdown",
   "metadata": {},
   "source": [
    "### In total, there were 120398 casualties."
   ]
  },
  {
   "attachments": {},
   "cell_type": "markdown",
   "metadata": {},
   "source": [
    "# Fatalities Trend"
   ]
  },
  {
   "cell_type": "code",
   "execution_count": 50,
   "metadata": {},
   "outputs": [
    {
     "data": {
      "text/plain": [
       "Year\n",
       "2001    6977.0\n",
       "1972    2850.0\n",
       "1996    2600.0\n",
       "1985    2591.0\n",
       "1973    2339.0\n",
       "         ...  \n",
       "1924      20.0\n",
       "1912       5.0\n",
       "1908       1.0\n",
       "1909       1.0\n",
       "2023       0.0\n",
       "Name: Total_Fatalites, Length: 113, dtype: float64"
      ]
     },
     "execution_count": 50,
     "metadata": {},
     "output_type": "execute_result"
    }
   ],
   "source": [
    "# Worst years in aviation\n",
    "fatalities_by_year = df.groupby(by=['Year']).sum()\n",
    "fatalities_by_year['Total_Fatalites'].sort_values(ascending=False)\n"
   ]
  },
  {
   "attachments": {},
   "cell_type": "markdown",
   "metadata": {},
   "source": [
    "## Let's create some visualizations to help with the analyzes"
   ]
  },
  {
   "cell_type": "code",
   "execution_count": 44,
   "metadata": {},
   "outputs": [
    {
     "data": {
      "image/png": "[encoded data removed]",
      "text/plain": [
       "<Figure size 640x480 with 1 Axes>"
      ]
     },
     "metadata": {},
     "output_type": "display_data"
    }
   ],
   "source": [
    "#trend of fatalities per year\n",
    "sn.lineplot(x=fatalities_by_year.index, y='Total_Fatalites', data=fatalities_by_year)\n",
    "plt.xlabel('')\n",
    "plt.ylabel('')\n",
    "plt.title('')\n",
    "plt.show()"
   ]
  },
  {
   "attachments": {},
   "cell_type": "markdown",
   "metadata": {},
   "source": [
    "#### 2001 had a significant number of fatalities, this can be easily explained by the atrocious 9/11 attacks"
   ]
  },
  {
   "attachments": {},
   "cell_type": "markdown",
   "metadata": {},
   "source": [
    "# Aciddents per year"
   ]
  },
  {
   "cell_type": "code",
   "execution_count": 13,
   "metadata": {},
   "outputs": [
    {
     "data": {
      "text/plain": [
       "Year\n",
       "1946    88\n",
       "1989    83\n",
       "1947    82\n",
       "1962    79\n",
       "1948    78\n",
       "        ..\n",
       "1915     2\n",
       "1908     1\n",
       "1909     1\n",
       "1912     1\n",
       "2023     1\n",
       "Name: Date, Length: 113, dtype: int64"
      ]
     },
     "execution_count": 13,
     "metadata": {},
     "output_type": "execute_result"
    }
   ],
   "source": [
    "accidents_by_year = df.groupby(by=['Year']).count()\n",
    "accidents_by_year['Date'].sort_values(ascending=False)"
   ]
  },
  {
   "attachments": {},
   "cell_type": "markdown",
   "metadata": {},
   "source": [
    "### Accidents per decade"
   ]
  },
  {
   "cell_type": "code",
   "execution_count": 15,
   "metadata": {},
   "outputs": [
    {
     "data": {
      "text/plain": [
       "Decade\n",
       "1960    649\n",
       "1950    639\n",
       "1990    633\n",
       "1970    612\n",
       "1940    572\n",
       "1980    562\n",
       "2000    509\n",
       "1930    350\n",
       "2010    236\n",
       "1920    181\n",
       "1910     31\n",
       "2020     22\n",
       "1900      2\n",
       "Name: Total_Fatalites, dtype: int64"
      ]
     },
     "execution_count": 15,
     "metadata": {},
     "output_type": "execute_result"
    }
   ],
   "source": [
    "df['Decade'] = df['Date'].dt.year.floordiv(10) * 10\n",
    "Fatalies_by_decade = df.groupby(by=['Decade']).count()\n",
    "Fatalies_by_decade['Total_Fatalites'].sort_values(ascending=False)"
   ]
  },
  {
   "cell_type": "code",
   "execution_count": 43,
   "metadata": {},
   "outputs": [
    {
     "data": {
      "image/png": "[encoded data removed]",
      "text/plain": [
       "<Figure size 640x480 with 1 Axes>"
      ]
     },
     "metadata": {},
     "output_type": "display_data"
    }
   ],
   "source": [
    "#trend of occurences per year\n",
    "sn.lineplot(x=accidents_by_year.index, y='Total_Fatalites', data=accidents_by_year)\n",
    "plt.xlabel('')\n",
    "plt.ylabel('')\n",
    "plt.title('')\n",
    "plt.show()"
   ]
  },
  {
   "attachments": {},
   "cell_type": "markdown",
   "metadata": {},
   "source": [
    "# Ac_Type involved in more accidents"
   ]
  },
  {
   "cell_type": "code",
   "execution_count": 24,
   "metadata": {},
   "outputs": [
    {
     "data": {
      "text/html": [
       "<div>\n",
       "<style scoped>\n",
       "    .dataframe tbody tr th:only-of-type {\n",
       "        vertical-align: middle;\n",
       "    }\n",
       "\n",
       "    .dataframe tbody tr th {\n",
       "        vertical-align: top;\n",
       "    }\n",
       "\n",
       "    .dataframe thead th {\n",
       "        text-align: right;\n",
       "    }\n",
       "</style>\n",
       "<table border=\"1\" class=\"dataframe\">\n",
       "  <thead>\n",
       "    <tr style=\"text-align: right;\">\n",
       "      <th></th>\n",
       "      <th>AC_Type</th>\n",
       "      <th>AC_Type_c</th>\n",
       "    </tr>\n",
       "  </thead>\n",
       "  <tbody>\n",
       "    <tr>\n",
       "      <th>1130</th>\n",
       "      <td>Douglas DC-3</td>\n",
       "      <td>333</td>\n",
       "    </tr>\n",
       "    <tr>\n",
       "      <th>2406</th>\n",
       "      <td>de Havilland Canada DHC-6 Twin Otter 300</td>\n",
       "      <td>83</td>\n",
       "    </tr>\n",
       "    <tr>\n",
       "      <th>1042</th>\n",
       "      <td>Douglas C-47A</td>\n",
       "      <td>70</td>\n",
       "    </tr>\n",
       "    <tr>\n",
       "      <th>1031</th>\n",
       "      <td>Douglas C-47</td>\n",
       "      <td>64</td>\n",
       "    </tr>\n",
       "    <tr>\n",
       "      <th>1182</th>\n",
       "      <td>Douglas DC-4</td>\n",
       "      <td>41</td>\n",
       "    </tr>\n",
       "    <tr>\n",
       "      <th>145</th>\n",
       "      <td>Antonov AN-26</td>\n",
       "      <td>35</td>\n",
       "    </tr>\n",
       "    <tr>\n",
       "      <th>2356</th>\n",
       "      <td>Yakovlev YAK-40</td>\n",
       "      <td>35</td>\n",
       "    </tr>\n",
       "    <tr>\n",
       "      <th>1588</th>\n",
       "      <td>Junkers JU-52/3m</td>\n",
       "      <td>30</td>\n",
       "    </tr>\n",
       "    <tr>\n",
       "      <th>1199</th>\n",
       "      <td>Douglas DC-6B</td>\n",
       "      <td>27</td>\n",
       "    </tr>\n",
       "    <tr>\n",
       "      <th>1067</th>\n",
       "      <td>Douglas C-47B</td>\n",
       "      <td>27</td>\n",
       "    </tr>\n",
       "  </tbody>\n",
       "</table>\n",
       "</div>"
      ],
      "text/plain": [
       "                                       AC_Type  AC_Type_c\n",
       "1130                              Douglas DC-3        333\n",
       "2406  de Havilland Canada DHC-6 Twin Otter 300         83\n",
       "1042                             Douglas C-47A         70\n",
       "1031                              Douglas C-47         64\n",
       "1182                              Douglas DC-4         41\n",
       "145                              Antonov AN-26         35\n",
       "2356                           Yakovlev YAK-40         35\n",
       "1588                          Junkers JU-52/3m         30\n",
       "1199                             Douglas DC-6B         27\n",
       "1067                             Douglas C-47B         27"
      ]
     },
     "execution_count": 24,
     "metadata": {},
     "output_type": "execute_result"
    }
   ],
   "source": [
    "AC_Type_c = df.groupby(\"AC_Type\").size().reset_index(name='AC_Type_c')\n",
    "AC_Type_c = AC_Type_c.sort_values(by='AC_Type_c', ascending=False)\n",
    "AC_Type_top = AC_Type_c.head(10)\n",
    "AC_Type_top"
   ]
  },
  {
   "cell_type": "code",
   "execution_count": 42,
   "metadata": {},
   "outputs": [
    {
     "data": {
      "image/png": "[encoded data removed]",
      "text/plain": [
       "<Figure size 640x480 with 1 Axes>"
      ]
     },
     "metadata": {},
     "output_type": "display_data"
    }
   ],
   "source": [
    "sn.barplot(x='AC_Type_c', y='AC_Type', data=AC_Type_top, orient='h', color=\"grey\")\n",
    "plt.title('Aircraft Type Count')\n",
    "plt.xlabel('')\n",
    "plt.ylabel('')\n",
    "plt.show()"
   ]
  },
  {
   "cell_type": "code",
   "execution_count": 33,
   "metadata": {},
   "outputs": [
    {
     "data": {
      "text/html": [
       "<div>\n",
       "<style scoped>\n",
       "    .dataframe tbody tr th:only-of-type {\n",
       "        vertical-align: middle;\n",
       "    }\n",
       "\n",
       "    .dataframe tbody tr th {\n",
       "        vertical-align: top;\n",
       "    }\n",
       "\n",
       "    .dataframe thead th {\n",
       "        text-align: right;\n",
       "    }\n",
       "</style>\n",
       "<table border=\"1\" class=\"dataframe\">\n",
       "  <thead>\n",
       "    <tr style=\"text-align: right;\">\n",
       "      <th></th>\n",
       "      <th>manufacturer</th>\n",
       "      <th>manufacturer_c</th>\n",
       "    </tr>\n",
       "  </thead>\n",
       "  <tbody>\n",
       "    <tr>\n",
       "      <th>78</th>\n",
       "      <td>Douglas</td>\n",
       "      <td>995</td>\n",
       "    </tr>\n",
       "    <tr>\n",
       "      <th>33</th>\n",
       "      <td>Boeing</td>\n",
       "      <td>415</td>\n",
       "    </tr>\n",
       "    <tr>\n",
       "      <th>138</th>\n",
       "      <td>Lockheed</td>\n",
       "      <td>329</td>\n",
       "    </tr>\n",
       "    <tr>\n",
       "      <th>246</th>\n",
       "      <td>de Havilland Canada</td>\n",
       "      <td>296</td>\n",
       "    </tr>\n",
       "    <tr>\n",
       "      <th>15</th>\n",
       "      <td>Antonov</td>\n",
       "      <td>289</td>\n",
       "    </tr>\n",
       "    <tr>\n",
       "      <th>120</th>\n",
       "      <td>Illyushin</td>\n",
       "      <td>150</td>\n",
       "    </tr>\n",
       "    <tr>\n",
       "      <th>93</th>\n",
       "      <td>Fokker</td>\n",
       "      <td>138</td>\n",
       "    </tr>\n",
       "    <tr>\n",
       "      <th>145</th>\n",
       "      <td>Mc Donnell Dougals</td>\n",
       "      <td>137</td>\n",
       "    </tr>\n",
       "    <tr>\n",
       "      <th>66</th>\n",
       "      <td>Curtis</td>\n",
       "      <td>125</td>\n",
       "    </tr>\n",
       "    <tr>\n",
       "      <th>224</th>\n",
       "      <td>Tupolev</td>\n",
       "      <td>106</td>\n",
       "    </tr>\n",
       "  </tbody>\n",
       "</table>\n",
       "</div>"
      ],
      "text/plain": [
       "            manufacturer  manufacturer_c\n",
       "78               Douglas             995\n",
       "33                Boeing             415\n",
       "138             Lockheed             329\n",
       "246  de Havilland Canada             296\n",
       "15               Antonov             289\n",
       "120            Illyushin             150\n",
       "93                Fokker             138\n",
       "145   Mc Donnell Dougals             137\n",
       "66                Curtis             125\n",
       "224              Tupolev             106"
      ]
     },
     "execution_count": 33,
     "metadata": {},
     "output_type": "execute_result"
    }
   ],
   "source": [
    "AC_man_c = df.groupby(\"manufacturer\").size().reset_index(name='manufacturer_c')\n",
    "AC_man_c = AC_man_c.sort_values(by='manufacturer_c', ascending=False)\n",
    "AC_man_c = AC_man_c.head(10)\n",
    "AC_man_c"
   ]
  },
  {
   "cell_type": "code",
   "execution_count": 41,
   "metadata": {},
   "outputs": [
    {
     "data": {
      "image/png": "[encoded data removed]",
      "text/plain": [
       "<Figure size 640x480 with 1 Axes>"
      ]
     },
     "metadata": {},
     "output_type": "display_data"
    }
   ],
   "source": [
    "sn.barplot(x='manufacturer_c', y='manufacturer', data=AC_man_c, orient='h', color='grey')\n",
    "plt.ylabel('')\n",
    "plt.xlabel('')\n",
    "plt.title('')\n",
    "plt.show()"
   ]
  },
  {
   "attachments": {},
   "cell_type": "markdown",
   "metadata": {},
   "source": [
    "### Douglas was involved in the majority of accidents <br> Douglas DC-3 aircraft was involved in a really considerable amount of occurrences"
   ]
  },
  {
   "attachments": {},
   "cell_type": "markdown",
   "metadata": {},
   "source": [
    "# Operators "
   ]
  },
  {
   "cell_type": "code",
   "execution_count": 35,
   "metadata": {},
   "outputs": [
    {
     "data": {
      "text/html": [
       "<div>\n",
       "<style scoped>\n",
       "    .dataframe tbody tr th:only-of-type {\n",
       "        vertical-align: middle;\n",
       "    }\n",
       "\n",
       "    .dataframe tbody tr th {\n",
       "        vertical-align: top;\n",
       "    }\n",
       "\n",
       "    .dataframe thead th {\n",
       "        text-align: right;\n",
       "    }\n",
       "</style>\n",
       "<table border=\"1\" class=\"dataframe\">\n",
       "  <thead>\n",
       "    <tr style=\"text-align: right;\">\n",
       "      <th></th>\n",
       "      <th>Operator</th>\n",
       "      <th>operator_c</th>\n",
       "    </tr>\n",
       "  </thead>\n",
       "  <tbody>\n",
       "    <tr>\n",
       "      <th>78</th>\n",
       "      <td>Aeroflot</td>\n",
       "      <td>260</td>\n",
       "    </tr>\n",
       "    <tr>\n",
       "      <th>1400</th>\n",
       "      <td>Military - U.S. Air Force</td>\n",
       "      <td>141</td>\n",
       "    </tr>\n",
       "    <tr>\n",
       "      <th>182</th>\n",
       "      <td>Air France</td>\n",
       "      <td>74</td>\n",
       "    </tr>\n",
       "    <tr>\n",
       "      <th>719</th>\n",
       "      <td>Deutsche Lufthansa</td>\n",
       "      <td>63</td>\n",
       "    </tr>\n",
       "    <tr>\n",
       "      <th>2146</th>\n",
       "      <td>United Air Lines</td>\n",
       "      <td>44</td>\n",
       "    </tr>\n",
       "    <tr>\n",
       "      <th>625</th>\n",
       "      <td>China National Aviation Corporation</td>\n",
       "      <td>43</td>\n",
       "    </tr>\n",
       "    <tr>\n",
       "      <th>1410</th>\n",
       "      <td>Military - U.S. Army Air Forces</td>\n",
       "      <td>43</td>\n",
       "    </tr>\n",
       "    <tr>\n",
       "      <th>1594</th>\n",
       "      <td>Pan American World Airways</td>\n",
       "      <td>41</td>\n",
       "    </tr>\n",
       "    <tr>\n",
       "      <th>349</th>\n",
       "      <td>American Airlines</td>\n",
       "      <td>38</td>\n",
       "    </tr>\n",
       "    <tr>\n",
       "      <th>2119</th>\n",
       "      <td>US Aerial Mail Service</td>\n",
       "      <td>35</td>\n",
       "    </tr>\n",
       "  </tbody>\n",
       "</table>\n",
       "</div>"
      ],
      "text/plain": [
       "                                 Operator  operator_c\n",
       "78                               Aeroflot         260\n",
       "1400            Military - U.S. Air Force         141\n",
       "182                            Air France          74\n",
       "719                    Deutsche Lufthansa          63\n",
       "2146                     United Air Lines          44\n",
       "625   China National Aviation Corporation          43\n",
       "1410      Military - U.S. Army Air Forces          43\n",
       "1594           Pan American World Airways          41\n",
       "349                     American Airlines          38\n",
       "2119               US Aerial Mail Service          35"
      ]
     },
     "execution_count": 35,
     "metadata": {},
     "output_type": "execute_result"
    }
   ],
   "source": [
    "operator_c = df.groupby(\"Operator\").size().reset_index(name='operator_c')\n",
    "operator_c = operator_c.sort_values(by='operator_c', ascending=False)\n",
    "operator_c = operator_c.head(10)\n",
    "operator_c"
   ]
  },
  {
   "cell_type": "code",
   "execution_count": 40,
   "metadata": {},
   "outputs": [
    {
     "data": {
      "image/png": "[encoded data removed]",
      "text/plain": [
       "<Figure size 640x480 with 1 Axes>"
      ]
     },
     "metadata": {},
     "output_type": "display_data"
    }
   ],
   "source": [
    "sn.barplot(x='operator_c', y='Operator', data=operator_c, orient='h', color='grey')\n",
    "plt.ylabel('')\n",
    "plt.xlabel('')\n",
    "plt.title('')\n",
    "plt.show()"
   ]
  },
  {
   "attachments": {},
   "cell_type": "markdown",
   "metadata": {},
   "source": [
    "### Lesson Learned: Do not fly Aeroflot! <br> U.S. Air Force comes in second as this contains records of WW2 accidents"
   ]
  },
  {
   "attachments": {},
   "cell_type": "markdown",
   "metadata": {},
   "source": [
    "# Types of Routes With More Accidents"
   ]
  },
  {
   "cell_type": "code",
   "execution_count": 45,
   "metadata": {},
   "outputs": [
    {
     "data": {
      "text/html": [
       "<div>\n",
       "<style scoped>\n",
       "    .dataframe tbody tr th:only-of-type {\n",
       "        vertical-align: middle;\n",
       "    }\n",
       "\n",
       "    .dataframe tbody tr th {\n",
       "        vertical-align: top;\n",
       "    }\n",
       "\n",
       "    .dataframe thead th {\n",
       "        text-align: right;\n",
       "    }\n",
       "</style>\n",
       "<table border=\"1\" class=\"dataframe\">\n",
       "  <thead>\n",
       "    <tr style=\"text-align: right;\">\n",
       "      <th></th>\n",
       "      <th>Origin</th>\n",
       "      <th>Origin_c</th>\n",
       "    </tr>\n",
       "  </thead>\n",
       "  <tbody>\n",
       "    <tr>\n",
       "      <th>1263</th>\n",
       "      <td>New York, NY</td>\n",
       "      <td>64</td>\n",
       "    </tr>\n",
       "    <tr>\n",
       "      <th>1362</th>\n",
       "      <td>Paris</td>\n",
       "      <td>51</td>\n",
       "    </tr>\n",
       "    <tr>\n",
       "      <th>1011</th>\n",
       "      <td>London</td>\n",
       "      <td>44</td>\n",
       "    </tr>\n",
       "    <tr>\n",
       "      <th>205</th>\n",
       "      <td>Bogata</td>\n",
       "      <td>40</td>\n",
       "    </tr>\n",
       "    <tr>\n",
       "      <th>1202</th>\n",
       "      <td>Moscow</td>\n",
       "      <td>40</td>\n",
       "    </tr>\n",
       "    <tr>\n",
       "      <th>1512</th>\n",
       "      <td>Rome</td>\n",
       "      <td>34</td>\n",
       "    </tr>\n",
       "    <tr>\n",
       "      <th>342</th>\n",
       "      <td>Chicago, IL</td>\n",
       "      <td>33</td>\n",
       "    </tr>\n",
       "    <tr>\n",
       "      <th>1661</th>\n",
       "      <td>Sightseeing</td>\n",
       "      <td>31</td>\n",
       "    </tr>\n",
       "    <tr>\n",
       "      <th>1149</th>\n",
       "      <td>Miami</td>\n",
       "      <td>27</td>\n",
       "    </tr>\n",
       "    <tr>\n",
       "      <th>1611</th>\n",
       "      <td>Sao Paulo</td>\n",
       "      <td>26</td>\n",
       "    </tr>\n",
       "  </tbody>\n",
       "</table>\n",
       "</div>"
      ],
      "text/plain": [
       "            Origin  Origin_c\n",
       "1263  New York, NY        64\n",
       "1362         Paris        51\n",
       "1011        London        44\n",
       "205         Bogata        40\n",
       "1202        Moscow        40\n",
       "1512          Rome        34\n",
       "342    Chicago, IL        33\n",
       "1661   Sightseeing        31\n",
       "1149         Miami        27\n",
       "1611     Sao Paulo        26"
      ]
     },
     "execution_count": 45,
     "metadata": {},
     "output_type": "execute_result"
    }
   ],
   "source": [
    "df1 = df[~df.Origin.isin(['Unknown', 'Training'])]\n",
    "Origin_c = df1.groupby(\"Origin\").size().reset_index(name='Origin_c')\n",
    "Origin_c = Origin_c.sort_values(by='Origin_c', ascending=False)\n",
    "Origin_c = Origin_c.head(10)\n",
    "Origin_c"
   ]
  },
  {
   "cell_type": "code",
   "execution_count": 47,
   "metadata": {},
   "outputs": [
    {
     "data": {
      "image/png": "[encoded data removed]",
      "text/plain": [
       "<Figure size 640x480 with 1 Axes>"
      ]
     },
     "metadata": {},
     "output_type": "display_data"
    }
   ],
   "source": [
    "sn.barplot(x='Origin_c', y='Origin', data=Origin_c, orient='h', color='grey')\n",
    "plt.ylabel('')\n",
    "plt.xlabel('')\n",
    "plt.title('')\n",
    "plt.show()"
   ]
  },
  {
   "attachments": {},
   "cell_type": "markdown",
   "metadata": {},
   "source": [
    "### Flights originating from NY had 64 accidents"
   ]
  },
  {
   "attachments": {},
   "cell_type": "markdown",
   "metadata": {},
   "source": []
  }
 ],
 "metadata": {
  "kernelspec": {
   "display_name": "base",
   "language": "python",
   "name": "python3"
  },
  "language_info": {
   "codemirror_mode": {
    "name": "ipython",
    "version": 3
   },
   "file_extension": ".py",
   "mimetype": "text/x-python",
   "name": "python",
   "nbconvert_exporter": "python",
   "pygments_lexer": "ipython3",
   "version": "3.9.15"
  },
  "orig_nbformat": 4,
  "vscode": {
   "interpreter": {
    "hash": "575c6bd5a177b5d132fcde8274b913f3c21b7e73d51aa963022e53c12c855868"
   }
  }
 },
 "nbformat": 4,
 "nbformat_minor": 2
}
