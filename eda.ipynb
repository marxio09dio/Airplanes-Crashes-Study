{
 "cells": [
  {
   "attachments": {},
   "cell_type": "markdown",
   "metadata": {},
   "source": [
    "# EDA"
   ]
  },
  {
   "cell_type": "code",
   "execution_count": 1,
   "metadata": {},
   "outputs": [],
   "source": [
    "import pandas as pd\n",
    "import seaborn as sn\n",
    "import matplotlib.pyplot as plt\n",
    "import seaborn as sns"
   ]
  },
  {
   "cell_type": "code",
   "execution_count": 2,
   "metadata": {},
   "outputs": [
    {
     "data": {
      "text/html": [
       "<div>\n",
       "<style scoped>\n",
       "    .dataframe tbody tr th:only-of-type {\n",
       "        vertical-align: middle;\n",
       "    }\n",
       "\n",
       "    .dataframe tbody tr th {\n",
       "        vertical-align: top;\n",
       "    }\n",
       "\n",
       "    .dataframe thead th {\n",
       "        text-align: right;\n",
       "    }\n",
       "</style>\n",
       "<table border=\"1\" class=\"dataframe\">\n",
       "  <thead>\n",
       "    <tr style=\"text-align: right;\">\n",
       "      <th></th>\n",
       "      <th>Decade</th>\n",
       "      <th>Year</th>\n",
       "      <th>Date</th>\n",
       "      <th>Location</th>\n",
       "      <th>Operator</th>\n",
       "      <th>manufacturer</th>\n",
       "      <th>Registration</th>\n",
       "      <th>Origin</th>\n",
       "      <th>Route</th>\n",
       "      <th>AC_Type</th>\n",
       "      <th>...</th>\n",
       "      <th>Crew_Aboard</th>\n",
       "      <th>Aboard_Aircraft</th>\n",
       "      <th>Passengers_Fatalities</th>\n",
       "      <th>Crew_Fatalities</th>\n",
       "      <th>Aboard_Fatalities</th>\n",
       "      <th>Ground_Fatalities</th>\n",
       "      <th>Total_Fatalites</th>\n",
       "      <th>Survivors</th>\n",
       "      <th>Latitude_DD</th>\n",
       "      <th>Longitude_DD</th>\n",
       "    </tr>\n",
       "  </thead>\n",
       "  <tbody>\n",
       "    <tr>\n",
       "      <th>0</th>\n",
       "      <td>1900</td>\n",
       "      <td>1908</td>\n",
       "      <td>1908-09-17</td>\n",
       "      <td>Fort Myer, Virginia</td>\n",
       "      <td>Military - U.S. Army</td>\n",
       "      <td>Wright</td>\n",
       "      <td>Unknown</td>\n",
       "      <td>Demonstration</td>\n",
       "      <td>Demonstration</td>\n",
       "      <td>Wright Flyer III</td>\n",
       "      <td>...</td>\n",
       "      <td>1.0</td>\n",
       "      <td>2.0</td>\n",
       "      <td>1.0</td>\n",
       "      <td>0.0</td>\n",
       "      <td>1.0</td>\n",
       "      <td>0.0</td>\n",
       "      <td>1.0</td>\n",
       "      <td>1.0</td>\n",
       "      <td>NaN</td>\n",
       "      <td>NaN</td>\n",
       "    </tr>\n",
       "    <tr>\n",
       "      <th>1</th>\n",
       "      <td>1900</td>\n",
       "      <td>1909</td>\n",
       "      <td>1909-09-07</td>\n",
       "      <td>Juvisy-sur-Orge, France</td>\n",
       "      <td>Unknown</td>\n",
       "      <td>Wright</td>\n",
       "      <td>SC1</td>\n",
       "      <td>Air show</td>\n",
       "      <td>Air show</td>\n",
       "      <td>Wright Byplane</td>\n",
       "      <td>...</td>\n",
       "      <td>1.0</td>\n",
       "      <td>1.0</td>\n",
       "      <td>0.0</td>\n",
       "      <td>0.0</td>\n",
       "      <td>1.0</td>\n",
       "      <td>0.0</td>\n",
       "      <td>1.0</td>\n",
       "      <td>0.0</td>\n",
       "      <td>NaN</td>\n",
       "      <td>NaN</td>\n",
       "    </tr>\n",
       "    <tr>\n",
       "      <th>2</th>\n",
       "      <td>1910</td>\n",
       "      <td>1912</td>\n",
       "      <td>1912-07-12</td>\n",
       "      <td>Atlantic City, New Jersey</td>\n",
       "      <td>Military - U.S. Navy</td>\n",
       "      <td>Dirigible</td>\n",
       "      <td>Unknown</td>\n",
       "      <td>Test flight</td>\n",
       "      <td>Test flight</td>\n",
       "      <td>Dirigible</td>\n",
       "      <td>...</td>\n",
       "      <td>5.0</td>\n",
       "      <td>5.0</td>\n",
       "      <td>0.0</td>\n",
       "      <td>5.0</td>\n",
       "      <td>5.0</td>\n",
       "      <td>0.0</td>\n",
       "      <td>5.0</td>\n",
       "      <td>0.0</td>\n",
       "      <td>NaN</td>\n",
       "      <td>NaN</td>\n",
       "    </tr>\n",
       "    <tr>\n",
       "      <th>3</th>\n",
       "      <td>1910</td>\n",
       "      <td>1913</td>\n",
       "      <td>1913-08-06</td>\n",
       "      <td>Victoria, British Columbia, Canada</td>\n",
       "      <td>Private</td>\n",
       "      <td>Curtiss</td>\n",
       "      <td>Unknown</td>\n",
       "      <td>Unknown</td>\n",
       "      <td>Unknown</td>\n",
       "      <td>Curtiss seaplane</td>\n",
       "      <td>...</td>\n",
       "      <td>1.0</td>\n",
       "      <td>1.0</td>\n",
       "      <td>0.0</td>\n",
       "      <td>1.0</td>\n",
       "      <td>1.0</td>\n",
       "      <td>0.0</td>\n",
       "      <td>1.0</td>\n",
       "      <td>0.0</td>\n",
       "      <td>NaN</td>\n",
       "      <td>NaN</td>\n",
       "    </tr>\n",
       "    <tr>\n",
       "      <th>4</th>\n",
       "      <td>1910</td>\n",
       "      <td>1913</td>\n",
       "      <td>1913-09-09</td>\n",
       "      <td>Over the North Sea</td>\n",
       "      <td>Military - German Navy</td>\n",
       "      <td>Zeppelin</td>\n",
       "      <td>Unknown</td>\n",
       "      <td>Unknown</td>\n",
       "      <td>Unknown</td>\n",
       "      <td>Zeppelin L-1 (airship)</td>\n",
       "      <td>...</td>\n",
       "      <td>NaN</td>\n",
       "      <td>20.0</td>\n",
       "      <td>NaN</td>\n",
       "      <td>NaN</td>\n",
       "      <td>14.0</td>\n",
       "      <td>0.0</td>\n",
       "      <td>14.0</td>\n",
       "      <td>6.0</td>\n",
       "      <td>NaN</td>\n",
       "      <td>NaN</td>\n",
       "    </tr>\n",
       "  </tbody>\n",
       "</table>\n",
       "<p>5 rows × 22 columns</p>\n",
       "</div>"
      ],
      "text/plain": [
       "   Decade  Year       Date                            Location  \\\n",
       "0    1900  1908 1908-09-17                 Fort Myer, Virginia   \n",
       "1    1900  1909 1909-09-07             Juvisy-sur-Orge, France   \n",
       "2    1910  1912 1912-07-12           Atlantic City, New Jersey   \n",
       "3    1910  1913 1913-08-06  Victoria, British Columbia, Canada   \n",
       "4    1910  1913 1913-09-09                  Over the North Sea   \n",
       "\n",
       "                 Operator manufacturer Registration         Origin  \\\n",
       "0    Military - U.S. Army       Wright      Unknown  Demonstration   \n",
       "1                 Unknown       Wright          SC1       Air show   \n",
       "2    Military - U.S. Navy    Dirigible      Unknown    Test flight   \n",
       "3                 Private      Curtiss      Unknown        Unknown   \n",
       "4  Military - German Navy     Zeppelin      Unknown        Unknown   \n",
       "\n",
       "           Route                 AC_Type  ... Crew_Aboard  Aboard_Aircraft  \\\n",
       "0  Demonstration        Wright Flyer III  ...         1.0              2.0   \n",
       "1       Air show          Wright Byplane  ...         1.0              1.0   \n",
       "2    Test flight               Dirigible  ...         5.0              5.0   \n",
       "3        Unknown        Curtiss seaplane  ...         1.0              1.0   \n",
       "4        Unknown  Zeppelin L-1 (airship)  ...         NaN             20.0   \n",
       "\n",
       "   Passengers_Fatalities  Crew_Fatalities  Aboard_Fatalities  \\\n",
       "0                    1.0              0.0                1.0   \n",
       "1                    0.0              0.0                1.0   \n",
       "2                    0.0              5.0                5.0   \n",
       "3                    0.0              1.0                1.0   \n",
       "4                    NaN              NaN               14.0   \n",
       "\n",
       "   Ground_Fatalities  Total_Fatalites  Survivors  Latitude_DD  Longitude_DD  \n",
       "0                0.0              1.0        1.0          NaN           NaN  \n",
       "1                0.0              1.0        0.0          NaN           NaN  \n",
       "2                0.0              5.0        0.0          NaN           NaN  \n",
       "3                0.0              1.0        0.0          NaN           NaN  \n",
       "4                0.0             14.0        6.0          NaN           NaN  \n",
       "\n",
       "[5 rows x 22 columns]"
      ]
     },
     "execution_count": 2,
     "metadata": {},
     "output_type": "execute_result"
    }
   ],
   "source": [
    "df = pd.read_excel('Data/Main_Data.xlsx')\n",
    "df.head()"
   ]
  },
  {
   "cell_type": "code",
   "execution_count": 3,
   "metadata": {},
   "outputs": [
    {
     "name": "stdout",
     "output_type": "stream",
     "text": [
      "<class 'pandas.core.frame.DataFrame'>\n",
      "RangeIndex: 5043 entries, 0 to 5042\n",
      "Data columns (total 22 columns):\n",
      " #   Column                 Non-Null Count  Dtype         \n",
      "---  ------                 --------------  -----         \n",
      " 0   Decade                 5043 non-null   int64         \n",
      " 1   Year                   5043 non-null   int64         \n",
      " 2   Date                   5043 non-null   datetime64[ns]\n",
      " 3   Location               5043 non-null   object        \n",
      " 4   Operator               5043 non-null   object        \n",
      " 5   manufacturer           5043 non-null   object        \n",
      " 6   Registration           5043 non-null   object        \n",
      " 7   Origin                 5043 non-null   object        \n",
      " 8   Route                  5043 non-null   object        \n",
      " 9   AC_Type                5043 non-null   object        \n",
      " 10  Summary                5043 non-null   object        \n",
      " 11  Passengers_Aboard      4820 non-null   float64       \n",
      " 12  Crew_Aboard            4822 non-null   float64       \n",
      " 13  Aboard_Aircraft        5026 non-null   float64       \n",
      " 14  Passengers_Fatalities  4805 non-null   float64       \n",
      " 15  Crew_Fatalities        4805 non-null   float64       \n",
      " 16  Aboard_Fatalities      5035 non-null   float64       \n",
      " 17  Ground_Fatalities      4998 non-null   float64       \n",
      " 18  Total_Fatalites        4998 non-null   float64       \n",
      " 19  Survivors              5026 non-null   float64       \n",
      " 20  Latitude_DD            685 non-null    float64       \n",
      " 21  Longitude_DD           685 non-null    float64       \n",
      "dtypes: datetime64[ns](1), float64(11), int64(2), object(8)\n",
      "memory usage: 866.9+ KB\n"
     ]
    }
   ],
   "source": [
    "df.info()"
   ]
  },
  {
   "attachments": {},
   "cell_type": "markdown",
   "metadata": {},
   "source": [
    "### percentage of missing values"
   ]
  },
  {
   "cell_type": "code",
   "execution_count": 4,
   "metadata": {},
   "outputs": [
    {
     "data": {
      "text/plain": [
       "Longitude_DD             86.416815\n",
       "Latitude_DD              86.416815\n",
       "Passengers_Fatalities     4.719413\n",
       "Crew_Fatalities           4.719413\n",
       "Passengers_Aboard         4.421971\n",
       "Crew_Aboard               4.382312\n",
       "Total_Fatalites           0.892326\n",
       "Ground_Fatalities         0.892326\n",
       "Aboard_Aircraft           0.337101\n",
       "Survivors                 0.337101\n",
       "Aboard_Fatalities         0.158636\n",
       "Operator                  0.000000\n",
       "Date                      0.000000\n",
       "Location                  0.000000\n",
       "manufacturer              0.000000\n",
       "Registration              0.000000\n",
       "Year                      0.000000\n",
       "Summary                   0.000000\n",
       "AC_Type                   0.000000\n",
       "Route                     0.000000\n",
       "Origin                    0.000000\n",
       "Decade                    0.000000\n",
       "dtype: float64"
      ]
     },
     "execution_count": 4,
     "metadata": {},
     "output_type": "execute_result"
    }
   ],
   "source": [
    "missing_data = df.isnull().sum() / len(df) *100\n",
    "missing_data.sort_values(ascending=False)"
   ]
  },
  {
   "cell_type": "code",
   "execution_count": 5,
   "metadata": {},
   "outputs": [
    {
     "data": {
      "text/plain": [
       "Decade                   100.000000\n",
       "Year                     100.000000\n",
       "Date                     100.000000\n",
       "Location                 100.000000\n",
       "Operator                 100.000000\n",
       "manufacturer             100.000000\n",
       "Registration             100.000000\n",
       "Origin                   100.000000\n",
       "Route                    100.000000\n",
       "AC_Type                  100.000000\n",
       "Summary                  100.000000\n",
       "Passengers_Aboard         95.578029\n",
       "Crew_Aboard               95.617688\n",
       "Aboard_Aircraft           99.662899\n",
       "Passengers_Fatalities     95.280587\n",
       "Crew_Fatalities           95.280587\n",
       "Aboard_Fatalities         99.841364\n",
       "Ground_Fatalities         99.107674\n",
       "Total_Fatalites           99.107674\n",
       "Survivors                 99.662899\n",
       "Latitude_DD               13.583185\n",
       "Longitude_DD              13.583185\n",
       "dtype: float64"
      ]
     },
     "execution_count": 5,
     "metadata": {},
     "output_type": "execute_result"
    }
   ],
   "source": [
    "df.notnull().sum() / len(df) * 100"
   ]
  },
  {
   "cell_type": "code",
   "execution_count": 6,
   "metadata": {},
   "outputs": [
    {
     "data": {
      "text/html": [
       "<div>\n",
       "<style scoped>\n",
       "    .dataframe tbody tr th:only-of-type {\n",
       "        vertical-align: middle;\n",
       "    }\n",
       "\n",
       "    .dataframe tbody tr th {\n",
       "        vertical-align: top;\n",
       "    }\n",
       "\n",
       "    .dataframe thead th {\n",
       "        text-align: right;\n",
       "    }\n",
       "</style>\n",
       "<table border=\"1\" class=\"dataframe\">\n",
       "  <thead>\n",
       "    <tr style=\"text-align: right;\">\n",
       "      <th></th>\n",
       "      <th>Decade</th>\n",
       "      <th>Year</th>\n",
       "      <th>Passengers_Aboard</th>\n",
       "      <th>Crew_Aboard</th>\n",
       "      <th>Aboard_Aircraft</th>\n",
       "      <th>Passengers_Fatalities</th>\n",
       "      <th>Crew_Fatalities</th>\n",
       "      <th>Aboard_Fatalities</th>\n",
       "      <th>Ground_Fatalities</th>\n",
       "      <th>Total_Fatalites</th>\n",
       "      <th>Survivors</th>\n",
       "      <th>Latitude_DD</th>\n",
       "      <th>Longitude_DD</th>\n",
       "    </tr>\n",
       "  </thead>\n",
       "  <tbody>\n",
       "    <tr>\n",
       "      <th>count</th>\n",
       "      <td>5043.000000</td>\n",
       "      <td>5043.000000</td>\n",
       "      <td>4820.000000</td>\n",
       "      <td>4822.000000</td>\n",
       "      <td>5026.000000</td>\n",
       "      <td>4805.000000</td>\n",
       "      <td>4805.000000</td>\n",
       "      <td>5035.000000</td>\n",
       "      <td>4998.000000</td>\n",
       "      <td>4998.000000</td>\n",
       "      <td>5026.000000</td>\n",
       "      <td>685.000000</td>\n",
       "      <td>685.000000</td>\n",
       "    </tr>\n",
       "    <tr>\n",
       "      <th>mean</th>\n",
       "      <td>1966.381122</td>\n",
       "      <td>1970.984731</td>\n",
       "      <td>26.906432</td>\n",
       "      <td>4.526752</td>\n",
       "      <td>31.132511</td>\n",
       "      <td>18.938189</td>\n",
       "      <td>3.585016</td>\n",
       "      <td>22.302085</td>\n",
       "      <td>1.717887</td>\n",
       "      <td>24.089236</td>\n",
       "      <td>8.805014</td>\n",
       "      <td>30.164963</td>\n",
       "      <td>-2.243981</td>\n",
       "    </tr>\n",
       "    <tr>\n",
       "      <th>std</th>\n",
       "      <td>24.979387</td>\n",
       "      <td>24.750520</td>\n",
       "      <td>44.003831</td>\n",
       "      <td>3.788049</td>\n",
       "      <td>45.435852</td>\n",
       "      <td>34.064868</td>\n",
       "      <td>3.180803</td>\n",
       "      <td>35.001043</td>\n",
       "      <td>55.308602</td>\n",
       "      <td>66.457303</td>\n",
       "      <td>30.591850</td>\n",
       "      <td>23.403421</td>\n",
       "      <td>77.465658</td>\n",
       "    </tr>\n",
       "    <tr>\n",
       "      <th>min</th>\n",
       "      <td>1900.000000</td>\n",
       "      <td>1908.000000</td>\n",
       "      <td>0.000000</td>\n",
       "      <td>0.000000</td>\n",
       "      <td>0.000000</td>\n",
       "      <td>0.000000</td>\n",
       "      <td>0.000000</td>\n",
       "      <td>0.000000</td>\n",
       "      <td>0.000000</td>\n",
       "      <td>0.000000</td>\n",
       "      <td>0.000000</td>\n",
       "      <td>-77.425000</td>\n",
       "      <td>-171.708056</td>\n",
       "    </tr>\n",
       "    <tr>\n",
       "      <th>25%</th>\n",
       "      <td>1950.000000</td>\n",
       "      <td>1951.000000</td>\n",
       "      <td>3.000000</td>\n",
       "      <td>2.000000</td>\n",
       "      <td>7.000000</td>\n",
       "      <td>1.000000</td>\n",
       "      <td>2.000000</td>\n",
       "      <td>4.000000</td>\n",
       "      <td>0.000000</td>\n",
       "      <td>4.000000</td>\n",
       "      <td>0.000000</td>\n",
       "      <td>18.006111</td>\n",
       "      <td>-75.991389</td>\n",
       "    </tr>\n",
       "    <tr>\n",
       "      <th>50%</th>\n",
       "      <td>1970.000000</td>\n",
       "      <td>1970.000000</td>\n",
       "      <td>12.000000</td>\n",
       "      <td>4.000000</td>\n",
       "      <td>16.000000</td>\n",
       "      <td>7.000000</td>\n",
       "      <td>3.000000</td>\n",
       "      <td>11.000000</td>\n",
       "      <td>0.000000</td>\n",
       "      <td>12.000000</td>\n",
       "      <td>0.000000</td>\n",
       "      <td>37.873333</td>\n",
       "      <td>5.163889</td>\n",
       "    </tr>\n",
       "    <tr>\n",
       "      <th>75%</th>\n",
       "      <td>1990.000000</td>\n",
       "      <td>1992.000000</td>\n",
       "      <td>30.000000</td>\n",
       "      <td>6.000000</td>\n",
       "      <td>35.000000</td>\n",
       "      <td>21.000000</td>\n",
       "      <td>5.000000</td>\n",
       "      <td>25.000000</td>\n",
       "      <td>0.000000</td>\n",
       "      <td>26.000000</td>\n",
       "      <td>4.000000</td>\n",
       "      <td>45.366667</td>\n",
       "      <td>48.350000</td>\n",
       "    </tr>\n",
       "    <tr>\n",
       "      <th>max</th>\n",
       "      <td>2020.000000</td>\n",
       "      <td>2023.000000</td>\n",
       "      <td>614.000000</td>\n",
       "      <td>83.000000</td>\n",
       "      <td>644.000000</td>\n",
       "      <td>560.000000</td>\n",
       "      <td>43.000000</td>\n",
       "      <td>583.000000</td>\n",
       "      <td>2750.000000</td>\n",
       "      <td>2842.000000</td>\n",
       "      <td>516.000000</td>\n",
       "      <td>78.214167</td>\n",
       "      <td>175.800000</td>\n",
       "    </tr>\n",
       "  </tbody>\n",
       "</table>\n",
       "</div>"
      ],
      "text/plain": [
       "            Decade         Year  Passengers_Aboard  Crew_Aboard  \\\n",
       "count  5043.000000  5043.000000        4820.000000  4822.000000   \n",
       "mean   1966.381122  1970.984731          26.906432     4.526752   \n",
       "std      24.979387    24.750520          44.003831     3.788049   \n",
       "min    1900.000000  1908.000000           0.000000     0.000000   \n",
       "25%    1950.000000  1951.000000           3.000000     2.000000   \n",
       "50%    1970.000000  1970.000000          12.000000     4.000000   \n",
       "75%    1990.000000  1992.000000          30.000000     6.000000   \n",
       "max    2020.000000  2023.000000         614.000000    83.000000   \n",
       "\n",
       "       Aboard_Aircraft  Passengers_Fatalities  Crew_Fatalities  \\\n",
       "count      5026.000000            4805.000000      4805.000000   \n",
       "mean         31.132511              18.938189         3.585016   \n",
       "std          45.435852              34.064868         3.180803   \n",
       "min           0.000000               0.000000         0.000000   \n",
       "25%           7.000000               1.000000         2.000000   \n",
       "50%          16.000000               7.000000         3.000000   \n",
       "75%          35.000000              21.000000         5.000000   \n",
       "max         644.000000             560.000000        43.000000   \n",
       "\n",
       "       Aboard_Fatalities  Ground_Fatalities  Total_Fatalites    Survivors  \\\n",
       "count        5035.000000        4998.000000      4998.000000  5026.000000   \n",
       "mean           22.302085           1.717887        24.089236     8.805014   \n",
       "std            35.001043          55.308602        66.457303    30.591850   \n",
       "min             0.000000           0.000000         0.000000     0.000000   \n",
       "25%             4.000000           0.000000         4.000000     0.000000   \n",
       "50%            11.000000           0.000000        12.000000     0.000000   \n",
       "75%            25.000000           0.000000        26.000000     4.000000   \n",
       "max           583.000000        2750.000000      2842.000000   516.000000   \n",
       "\n",
       "       Latitude_DD  Longitude_DD  \n",
       "count   685.000000    685.000000  \n",
       "mean     30.164963     -2.243981  \n",
       "std      23.403421     77.465658  \n",
       "min     -77.425000   -171.708056  \n",
       "25%      18.006111    -75.991389  \n",
       "50%      37.873333      5.163889  \n",
       "75%      45.366667     48.350000  \n",
       "max      78.214167    175.800000  "
      ]
     },
     "execution_count": 6,
     "metadata": {},
     "output_type": "execute_result"
    }
   ],
   "source": [
    "df.describe()"
   ]
  },
  {
   "attachments": {},
   "cell_type": "markdown",
   "metadata": {},
   "source": [
    "### Fatalities per Year"
   ]
  },
  {
   "cell_type": "code",
   "execution_count": 7,
   "metadata": {},
   "outputs": [
    {
     "data": {
      "text/plain": [
       "120398.0"
      ]
     },
     "execution_count": 7,
     "metadata": {},
     "output_type": "execute_result"
    }
   ],
   "source": [
    "df['Total_Fatalites'].sum()"
   ]
  },
  {
   "cell_type": "code",
   "execution_count": 8,
   "metadata": {},
   "outputs": [
    {
     "data": {
      "text/plain": [
       "Year\n",
       "1908      1.0\n",
       "1909      1.0\n",
       "1912      5.0\n",
       "1913     43.0\n",
       "1915     36.0\n",
       "        ...  \n",
       "2019    326.0\n",
       "2020    338.0\n",
       "2021    189.0\n",
       "2022    191.0\n",
       "2023      0.0\n",
       "Name: Total_Fatalites, Length: 113, dtype: float64"
      ]
     },
     "execution_count": 8,
     "metadata": {},
     "output_type": "execute_result"
    }
   ],
   "source": [
    "fatalities_by_year = df.groupby(by=['Year']).sum()\n",
    "fatalities_by_year['Total_Fatalites']"
   ]
  },
  {
   "cell_type": "code",
   "execution_count": 9,
   "metadata": {},
   "outputs": [
    {
     "data": {
      "image/png": "[encoded data removed]",
      "text/plain": [
       "<Figure size 640x480 with 1 Axes>"
      ]
     },
     "metadata": {},
     "output_type": "display_data"
    }
   ],
   "source": [
    "sns.lineplot(x=fatalities_by_year.index, y='Total_Fatalites', data=fatalities_by_year)\n",
    "plt.xlabel('Decade')\n",
    "plt.ylabel('Total Fatalites')\n",
    "plt.title('Fatalites by Year')\n",
    "plt.show()"
   ]
  },
  {
   "attachments": {},
   "cell_type": "markdown",
   "metadata": {},
   "source": [
    "### 2001 had the highest fatalities due to 09/11"
   ]
  },
  {
   "attachments": {},
   "cell_type": "markdown",
   "metadata": {},
   "source": [
    "### Aciddents per year"
   ]
  },
  {
   "cell_type": "code",
   "execution_count": 10,
   "metadata": {},
   "outputs": [
    {
     "data": {
      "text/plain": [
       "Year\n",
       "1908     1\n",
       "1909     1\n",
       "1912     1\n",
       "1913     3\n",
       "1915     2\n",
       "        ..\n",
       "2019    13\n",
       "2020     8\n",
       "2021     9\n",
       "2022     6\n",
       "2023     1\n",
       "Name: Date, Length: 113, dtype: int64"
      ]
     },
     "execution_count": 10,
     "metadata": {},
     "output_type": "execute_result"
    }
   ],
   "source": [
    "accidents_by_year = df.groupby(by=['Year']).count()\n",
    "accidents_by_year['Date']"
   ]
  },
  {
   "attachments": {},
   "cell_type": "markdown",
   "metadata": {},
   "source": [
    "### Accidents per decade"
   ]
  },
  {
   "cell_type": "code",
   "execution_count": 11,
   "metadata": {},
   "outputs": [
    {
     "data": {
      "text/plain": [
       "Decade\n",
       "1900      2\n",
       "1910     31\n",
       "1920    181\n",
       "1930    350\n",
       "1940    572\n",
       "1950    639\n",
       "1960    649\n",
       "1970    612\n",
       "1980    562\n",
       "1990    633\n",
       "2000    509\n",
       "2010    236\n",
       "2020     22\n",
       "Name: Total_Fatalites, dtype: int64"
      ]
     },
     "execution_count": 11,
     "metadata": {},
     "output_type": "execute_result"
    }
   ],
   "source": [
    "df['Decade'] = df['Date'].dt.year.floordiv(10) * 10\n",
    "Fatalies_by_decade = df.groupby(by=['Decade']).count()\n",
    "Fatalies_by_decade['Total_Fatalites']"
   ]
  },
  {
   "cell_type": "code",
   "execution_count": 12,
   "metadata": {},
   "outputs": [
    {
     "data": {
      "image/png": "[encoded data removed]",
      "text/plain": [
       "<Figure size 640x480 with 1 Axes>"
      ]
     },
     "metadata": {},
     "output_type": "display_data"
    }
   ],
   "source": [
    "sns.lineplot(x=Fatalies_by_decade.index, y='Total_Fatalites', data=Fatalies_by_decade, color=\"grey\")\n",
    "plt.xlabel('Decade')\n",
    "plt.ylabel('Total Fatalites')\n",
    "plt.title('Fatalites by Decade')\n",
    "plt.show()\n"
   ]
  },
  {
   "attachments": {},
   "cell_type": "markdown",
   "metadata": {},
   "source": [
    "### Ac_Type involved in more accidents"
   ]
  },
  {
   "cell_type": "code",
   "execution_count": 13,
   "metadata": {},
   "outputs": [
    {
     "data": {
      "text/html": [
       "<div>\n",
       "<style scoped>\n",
       "    .dataframe tbody tr th:only-of-type {\n",
       "        vertical-align: middle;\n",
       "    }\n",
       "\n",
       "    .dataframe tbody tr th {\n",
       "        vertical-align: top;\n",
       "    }\n",
       "\n",
       "    .dataframe thead th {\n",
       "        text-align: right;\n",
       "    }\n",
       "</style>\n",
       "<table border=\"1\" class=\"dataframe\">\n",
       "  <thead>\n",
       "    <tr style=\"text-align: right;\">\n",
       "      <th></th>\n",
       "      <th>AC_Type</th>\n",
       "      <th>AC_Type_c</th>\n",
       "    </tr>\n",
       "  </thead>\n",
       "  <tbody>\n",
       "    <tr>\n",
       "      <th>1136</th>\n",
       "      <td>Douglas DC-3</td>\n",
       "      <td>333</td>\n",
       "    </tr>\n",
       "    <tr>\n",
       "      <th>2420</th>\n",
       "      <td>de Havilland Canada DHC-6 Twin Otter 300</td>\n",
       "      <td>83</td>\n",
       "    </tr>\n",
       "    <tr>\n",
       "      <th>1048</th>\n",
       "      <td>Douglas C-47A</td>\n",
       "      <td>70</td>\n",
       "    </tr>\n",
       "    <tr>\n",
       "      <th>1037</th>\n",
       "      <td>Douglas C-47</td>\n",
       "      <td>64</td>\n",
       "    </tr>\n",
       "    <tr>\n",
       "      <th>1188</th>\n",
       "      <td>Douglas DC-4</td>\n",
       "      <td>41</td>\n",
       "    </tr>\n",
       "    <tr>\n",
       "      <th>145</th>\n",
       "      <td>Antonov AN-26</td>\n",
       "      <td>35</td>\n",
       "    </tr>\n",
       "    <tr>\n",
       "      <th>2369</th>\n",
       "      <td>Yakovlev YAK-40</td>\n",
       "      <td>35</td>\n",
       "    </tr>\n",
       "    <tr>\n",
       "      <th>1595</th>\n",
       "      <td>Junkers JU-52/3m</td>\n",
       "      <td>30</td>\n",
       "    </tr>\n",
       "    <tr>\n",
       "      <th>984</th>\n",
       "      <td>De Havilland DH-4</td>\n",
       "      <td>27</td>\n",
       "    </tr>\n",
       "    <tr>\n",
       "      <th>1205</th>\n",
       "      <td>Douglas DC-6B</td>\n",
       "      <td>27</td>\n",
       "    </tr>\n",
       "  </tbody>\n",
       "</table>\n",
       "</div>"
      ],
      "text/plain": [
       "                                       AC_Type  AC_Type_c\n",
       "1136                              Douglas DC-3        333\n",
       "2420  de Havilland Canada DHC-6 Twin Otter 300         83\n",
       "1048                             Douglas C-47A         70\n",
       "1037                              Douglas C-47         64\n",
       "1188                              Douglas DC-4         41\n",
       "145                              Antonov AN-26         35\n",
       "2369                           Yakovlev YAK-40         35\n",
       "1595                          Junkers JU-52/3m         30\n",
       "984                          De Havilland DH-4         27\n",
       "1205                             Douglas DC-6B         27"
      ]
     },
     "execution_count": 13,
     "metadata": {},
     "output_type": "execute_result"
    }
   ],
   "source": [
    "AC_Type_c = df.groupby(\"AC_Type\").size().reset_index(name='AC_Type_c')\n",
    "AC_Type_c = AC_Type_c.sort_values(by='AC_Type_c', ascending=False)\n",
    "AC_Type_top = AC_Type_c.head(10)\n",
    "AC_Type_top"
   ]
  },
  {
   "cell_type": "code",
   "execution_count": 14,
   "metadata": {},
   "outputs": [
    {
     "data": {
      "image/png": "[encoded data removed]",
      "text/plain": [
       "<Figure size 640x480 with 1 Axes>"
      ]
     },
     "metadata": {},
     "output_type": "display_data"
    }
   ],
   "source": [
    "sns.barplot(x='AC_Type_c', y='AC_Type', data=AC_Type_top, orient='h', color='grey')\n",
    "plt.ylabel('Aircraft Type')\n",
    "plt.xlabel('Count')\n",
    "plt.title('Aircraft Type Count')\n",
    "plt.show()"
   ]
  },
  {
   "cell_type": "code",
   "execution_count": 15,
   "metadata": {},
   "outputs": [
    {
     "data": {
      "text/html": [
       "<div>\n",
       "<style scoped>\n",
       "    .dataframe tbody tr th:only-of-type {\n",
       "        vertical-align: middle;\n",
       "    }\n",
       "\n",
       "    .dataframe tbody tr th {\n",
       "        vertical-align: top;\n",
       "    }\n",
       "\n",
       "    .dataframe thead th {\n",
       "        text-align: right;\n",
       "    }\n",
       "</style>\n",
       "<table border=\"1\" class=\"dataframe\">\n",
       "  <thead>\n",
       "    <tr style=\"text-align: right;\">\n",
       "      <th></th>\n",
       "      <th>manufacturer</th>\n",
       "      <th>manufacturer_c</th>\n",
       "    </tr>\n",
       "  </thead>\n",
       "  <tbody>\n",
       "    <tr>\n",
       "      <th>107</th>\n",
       "      <td>Douglas</td>\n",
       "      <td>993</td>\n",
       "    </tr>\n",
       "    <tr>\n",
       "      <th>51</th>\n",
       "      <td>Boeing</td>\n",
       "      <td>414</td>\n",
       "    </tr>\n",
       "    <tr>\n",
       "      <th>188</th>\n",
       "      <td>Lockheed</td>\n",
       "      <td>328</td>\n",
       "    </tr>\n",
       "    <tr>\n",
       "      <th>24</th>\n",
       "      <td>Antonov</td>\n",
       "      <td>287</td>\n",
       "    </tr>\n",
       "    <tr>\n",
       "      <th>312</th>\n",
       "      <td>de Havilland Canada</td>\n",
       "      <td>252</td>\n",
       "    </tr>\n",
       "    <tr>\n",
       "      <th>162</th>\n",
       "      <td>Ilyushin</td>\n",
       "      <td>142</td>\n",
       "    </tr>\n",
       "    <tr>\n",
       "      <th>129</th>\n",
       "      <td>Fokker</td>\n",
       "      <td>138</td>\n",
       "    </tr>\n",
       "    <tr>\n",
       "      <th>199</th>\n",
       "      <td>McDonnell</td>\n",
       "      <td>127</td>\n",
       "    </tr>\n",
       "    <tr>\n",
       "      <th>90</th>\n",
       "      <td>Curtiss</td>\n",
       "      <td>121</td>\n",
       "    </tr>\n",
       "    <tr>\n",
       "      <th>289</th>\n",
       "      <td>Tupolev</td>\n",
       "      <td>105</td>\n",
       "    </tr>\n",
       "  </tbody>\n",
       "</table>\n",
       "</div>"
      ],
      "text/plain": [
       "            manufacturer  manufacturer_c\n",
       "107              Douglas             993\n",
       "51                Boeing             414\n",
       "188             Lockheed             328\n",
       "24               Antonov             287\n",
       "312  de Havilland Canada             252\n",
       "162             Ilyushin             142\n",
       "129               Fokker             138\n",
       "199            McDonnell             127\n",
       "90               Curtiss             121\n",
       "289              Tupolev             105"
      ]
     },
     "execution_count": 15,
     "metadata": {},
     "output_type": "execute_result"
    }
   ],
   "source": [
    "AC_man_c = df.groupby(\"manufacturer\").size().reset_index(name='manufacturer_c')\n",
    "AC_man_c = AC_man_c.sort_values(by='manufacturer_c', ascending=False)\n",
    "AC_man_c = AC_man_c.head(10)\n",
    "AC_man_c"
   ]
  },
  {
   "cell_type": "code",
   "execution_count": 16,
   "metadata": {},
   "outputs": [
    {
     "data": {
      "image/png": "[encoded data removed]",
      "text/plain": [
       "<Figure size 640x480 with 1 Axes>"
      ]
     },
     "metadata": {},
     "output_type": "display_data"
    }
   ],
   "source": [
    "sns.barplot(x='manufacturer_c', y='manufacturer', data=AC_man_c, orient='h', color='grey')\n",
    "plt.ylabel('Manufacturer')\n",
    "plt.xlabel('Count')\n",
    "plt.title('Manufacturer Count')\n",
    "plt.show()"
   ]
  },
  {
   "attachments": {},
   "cell_type": "markdown",
   "metadata": {},
   "source": [
    "### Operator involved in more accidents"
   ]
  },
  {
   "cell_type": "code",
   "execution_count": 17,
   "metadata": {},
   "outputs": [
    {
     "data": {
      "text/html": [
       "<div>\n",
       "<style scoped>\n",
       "    .dataframe tbody tr th:only-of-type {\n",
       "        vertical-align: middle;\n",
       "    }\n",
       "\n",
       "    .dataframe tbody tr th {\n",
       "        vertical-align: top;\n",
       "    }\n",
       "\n",
       "    .dataframe thead th {\n",
       "        text-align: right;\n",
       "    }\n",
       "</style>\n",
       "<table border=\"1\" class=\"dataframe\">\n",
       "  <thead>\n",
       "    <tr style=\"text-align: right;\">\n",
       "      <th></th>\n",
       "      <th>Operator</th>\n",
       "      <th>operator_c</th>\n",
       "    </tr>\n",
       "  </thead>\n",
       "  <tbody>\n",
       "    <tr>\n",
       "      <th>82</th>\n",
       "      <td>Aeroflot</td>\n",
       "      <td>254</td>\n",
       "    </tr>\n",
       "    <tr>\n",
       "      <th>1416</th>\n",
       "      <td>Military - U.S. Air Force</td>\n",
       "      <td>141</td>\n",
       "    </tr>\n",
       "    <tr>\n",
       "      <th>192</th>\n",
       "      <td>Air France</td>\n",
       "      <td>74</td>\n",
       "    </tr>\n",
       "    <tr>\n",
       "      <th>731</th>\n",
       "      <td>Deutsche Lufthansa</td>\n",
       "      <td>63</td>\n",
       "    </tr>\n",
       "    <tr>\n",
       "      <th>2163</th>\n",
       "      <td>United Air Lines</td>\n",
       "      <td>44</td>\n",
       "    </tr>\n",
       "    <tr>\n",
       "      <th>637</th>\n",
       "      <td>China National Aviation Corporation</td>\n",
       "      <td>43</td>\n",
       "    </tr>\n",
       "    <tr>\n",
       "      <th>1426</th>\n",
       "      <td>Military - U.S. Army Air Forces</td>\n",
       "      <td>43</td>\n",
       "    </tr>\n",
       "    <tr>\n",
       "      <th>1611</th>\n",
       "      <td>Pan American World Airways</td>\n",
       "      <td>41</td>\n",
       "    </tr>\n",
       "    <tr>\n",
       "      <th>360</th>\n",
       "      <td>American Airlines</td>\n",
       "      <td>38</td>\n",
       "    </tr>\n",
       "    <tr>\n",
       "      <th>2136</th>\n",
       "      <td>US Aerial Mail Service</td>\n",
       "      <td>35</td>\n",
       "    </tr>\n",
       "  </tbody>\n",
       "</table>\n",
       "</div>"
      ],
      "text/plain": [
       "                                 Operator  operator_c\n",
       "82                               Aeroflot         254\n",
       "1416            Military - U.S. Air Force         141\n",
       "192                            Air France          74\n",
       "731                    Deutsche Lufthansa          63\n",
       "2163                     United Air Lines          44\n",
       "637   China National Aviation Corporation          43\n",
       "1426      Military - U.S. Army Air Forces          43\n",
       "1611           Pan American World Airways          41\n",
       "360                     American Airlines          38\n",
       "2136               US Aerial Mail Service          35"
      ]
     },
     "execution_count": 17,
     "metadata": {},
     "output_type": "execute_result"
    }
   ],
   "source": [
    "operator_c = df.groupby(\"Operator\").size().reset_index(name='operator_c')\n",
    "operator_c = operator_c.sort_values(by='operator_c', ascending=False)\n",
    "operator_c = operator_c.head(10)\n",
    "operator_c"
   ]
  },
  {
   "cell_type": "code",
   "execution_count": 18,
   "metadata": {},
   "outputs": [
    {
     "data": {
      "image/png": "[encoded data removed]",
      "text/plain": [
       "<Figure size 640x480 with 1 Axes>"
      ]
     },
     "metadata": {},
     "output_type": "display_data"
    }
   ],
   "source": [
    "sns.barplot(x='operator_c', y='Operator', data=operator_c, orient='h', color='grey')\n",
    "plt.ylabel('Operator')\n",
    "plt.xlabel('Count')\n",
    "plt.title('Operator Count')\n",
    "plt.show()"
   ]
  },
  {
   "attachments": {},
   "cell_type": "markdown",
   "metadata": {},
   "source": [
    "### Types of Routes With More Accidents"
   ]
  },
  {
   "cell_type": "code",
   "execution_count": 19,
   "metadata": {},
   "outputs": [
    {
     "data": {
      "text/html": [
       "<div>\n",
       "<style scoped>\n",
       "    .dataframe tbody tr th:only-of-type {\n",
       "        vertical-align: middle;\n",
       "    }\n",
       "\n",
       "    .dataframe tbody tr th {\n",
       "        vertical-align: top;\n",
       "    }\n",
       "\n",
       "    .dataframe thead th {\n",
       "        text-align: right;\n",
       "    }\n",
       "</style>\n",
       "<table border=\"1\" class=\"dataframe\">\n",
       "  <thead>\n",
       "    <tr style=\"text-align: right;\">\n",
       "      <th></th>\n",
       "      <th>Origin</th>\n",
       "      <th>Origin_c</th>\n",
       "    </tr>\n",
       "  </thead>\n",
       "  <tbody>\n",
       "    <tr>\n",
       "      <th>1466</th>\n",
       "      <td>Paris</td>\n",
       "      <td>47</td>\n",
       "    </tr>\n",
       "    <tr>\n",
       "      <th>1097</th>\n",
       "      <td>London</td>\n",
       "      <td>44</td>\n",
       "    </tr>\n",
       "    <tr>\n",
       "      <th>1290</th>\n",
       "      <td>Moscow</td>\n",
       "      <td>40</td>\n",
       "    </tr>\n",
       "    <tr>\n",
       "      <th>1355</th>\n",
       "      <td>New York City</td>\n",
       "      <td>38</td>\n",
       "    </tr>\n",
       "    <tr>\n",
       "      <th>1642</th>\n",
       "      <td>Rome</td>\n",
       "      <td>31</td>\n",
       "    </tr>\n",
       "    <tr>\n",
       "      <th>246</th>\n",
       "      <td>Bogota</td>\n",
       "      <td>31</td>\n",
       "    </tr>\n",
       "    <tr>\n",
       "      <th>1798</th>\n",
       "      <td>Sightseeing</td>\n",
       "      <td>31</td>\n",
       "    </tr>\n",
       "    <tr>\n",
       "      <th>409</th>\n",
       "      <td>Chicago</td>\n",
       "      <td>30</td>\n",
       "    </tr>\n",
       "    <tr>\n",
       "      <th>1237</th>\n",
       "      <td>Miami</td>\n",
       "      <td>27</td>\n",
       "    </tr>\n",
       "    <tr>\n",
       "      <th>1748</th>\n",
       "      <td>Sao Paulo</td>\n",
       "      <td>26</td>\n",
       "    </tr>\n",
       "  </tbody>\n",
       "</table>\n",
       "</div>"
      ],
      "text/plain": [
       "             Origin  Origin_c\n",
       "1466          Paris        47\n",
       "1097         London        44\n",
       "1290         Moscow        40\n",
       "1355  New York City        38\n",
       "1642           Rome        31\n",
       "246          Bogota        31\n",
       "1798    Sightseeing        31\n",
       "409         Chicago        30\n",
       "1237          Miami        27\n",
       "1748      Sao Paulo        26"
      ]
     },
     "execution_count": 19,
     "metadata": {},
     "output_type": "execute_result"
    }
   ],
   "source": [
    "df1 = df[~df.Origin.isin(['Unknown', 'Training'])]\n",
    "Origin_c = df1.groupby(\"Origin\").size().reset_index(name='Origin_c')\n",
    "Origin_c = Origin_c.sort_values(by='Origin_c', ascending=False)\n",
    "Origin_c = Origin_c.head(10)\n",
    "Origin_c"
   ]
  },
  {
   "cell_type": "code",
   "execution_count": 20,
   "metadata": {},
   "outputs": [
    {
     "data": {
      "image/png": "[encoded data removed]",
      "text/plain": [
       "<Figure size 640x480 with 1 Axes>"
      ]
     },
     "metadata": {},
     "output_type": "display_data"
    }
   ],
   "source": [
    "sns.barplot(x='Origin_c', y='Origin', data=Origin_c, orient='h', color='grey')\n",
    "plt.ylabel('Origin')\n",
    "plt.xlabel('Count')\n",
    "plt.title('Origin Count')\n",
    "plt.show()"
   ]
  },
  {
   "attachments": {},
   "cell_type": "markdown",
   "metadata": {},
   "source": [
    "# Insights so far:\n",
    "-  120398 Total Fatalies in 5043 Accidents\n",
    "-  From the 1980 Decade, the tendency of Fatalities has been decreasing, however due to the 09/11 attacks, there was a huge spike\n",
    "-  \"Douglas DC-3\" is by far the Airplane involved in more accidents totalizing 333, second we have the \"de Havilland Canada DHC-6 Twin Otter 300\" with 83\n",
    "-  As for maneufactures \"Douglas\" airplanes were involved in 992 and \"Boeing\"'s 411\n",
    "-  When it comes to operators, \"Aeroflot\" had 254 accidents and \"U.S. Air Force\" 141\n",
    "-  For the Accidents where routes are known, 45 of the accidents were origination from Paris and other 43 from London"
   ]
  }
 ],
 "metadata": {
  "kernelspec": {
   "display_name": "base",
   "language": "python",
   "name": "python3"
  },
  "language_info": {
   "codemirror_mode": {
    "name": "ipython",
    "version": 3
   },
   "file_extension": ".py",
   "mimetype": "text/x-python",
   "name": "python",
   "nbconvert_exporter": "python",
   "pygments_lexer": "ipython3",
   "version": "3.9.15"
  },
  "orig_nbformat": 4,
  "vscode": {
   "interpreter": {
    "hash": "575c6bd5a177b5d132fcde8274b913f3c21b7e73d51aa963022e53c12c855868"
   }
  }
 },
 "nbformat": 4,
 "nbformat_minor": 2
}
