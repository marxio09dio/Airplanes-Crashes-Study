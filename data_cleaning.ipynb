{
 "cells": [
  {
   "attachments": {},
   "cell_type": "markdown",
   "metadata": {},
   "source": [
    "## To Do\n",
    "1. Load the data\n",
    "2. Created an ID column and assign an unique ID to each Accident/Incident\n",
    "3. Unpivot the Data to have the unique values on Data Col as Columns and values as rows\n",
    "4. Check for null vallues\n",
    "5. Make the Data usuable for Power BI"
   ]
  },
  {
   "cell_type": "code",
   "execution_count": 5,
   "metadata": {},
   "outputs": [],
   "source": [
    "import pandas as pd"
   ]
  },
  {
   "attachments": {},
   "cell_type": "markdown",
   "metadata": {},
   "source": [
    "### column names were edited directly in Excel "
   ]
  },
  {
   "cell_type": "code",
   "execution_count": 6,
   "metadata": {},
   "outputs": [
    {
     "data": {
      "text/html": [
       "<div>\n",
       "<style scoped>\n",
       "    .dataframe tbody tr th:only-of-type {\n",
       "        vertical-align: middle;\n",
       "    }\n",
       "\n",
       "    .dataframe tbody tr th {\n",
       "        vertical-align: top;\n",
       "    }\n",
       "\n",
       "    .dataframe thead th {\n",
       "        text-align: right;\n",
       "    }\n",
       "</style>\n",
       "<table border=\"1\" class=\"dataframe\">\n",
       "  <thead>\n",
       "    <tr style=\"text-align: right;\">\n",
       "      <th></th>\n",
       "      <th>Unnamed: 0</th>\n",
       "      <th>title</th>\n",
       "      <th>Headers</th>\n",
       "      <th>Values</th>\n",
       "    </tr>\n",
       "  </thead>\n",
       "  <tbody>\n",
       "    <tr>\n",
       "      <th>0</th>\n",
       "      <td>0</td>\n",
       "      <td>Wingfoot Air Express crash</td>\n",
       "      <td>Wingfoot Air Express</td>\n",
       "      <td>Wingfoot Air Express</td>\n",
       "    </tr>\n",
       "    <tr>\n",
       "      <th>1</th>\n",
       "      <td>1</td>\n",
       "      <td>Wingfoot Air Express crash</td>\n",
       "      <td>Accident</td>\n",
       "      <td>Accident</td>\n",
       "    </tr>\n",
       "    <tr>\n",
       "      <th>2</th>\n",
       "      <td>2</td>\n",
       "      <td>Wingfoot Air Express crash</td>\n",
       "      <td>Date</td>\n",
       "      <td>July 21, 1919</td>\n",
       "    </tr>\n",
       "    <tr>\n",
       "      <th>3</th>\n",
       "      <td>3</td>\n",
       "      <td>Wingfoot Air Express crash</td>\n",
       "      <td>Summary</td>\n",
       "      <td>In-flight fire</td>\n",
       "    </tr>\n",
       "    <tr>\n",
       "      <th>4</th>\n",
       "      <td>4</td>\n",
       "      <td>Wingfoot Air Express crash</td>\n",
       "      <td>Site</td>\n",
       "      <td>Chicago, Illinois, United States .mw-parser-ou...</td>\n",
       "    </tr>\n",
       "  </tbody>\n",
       "</table>\n",
       "</div>"
      ],
      "text/plain": [
       "   Unnamed: 0                       title               Headers  \\\n",
       "0           0  Wingfoot Air Express crash  Wingfoot Air Express   \n",
       "1           1  Wingfoot Air Express crash              Accident   \n",
       "2           2  Wingfoot Air Express crash                  Date   \n",
       "3           3  Wingfoot Air Express crash               Summary   \n",
       "4           4  Wingfoot Air Express crash                  Site   \n",
       "\n",
       "                                              Values  \n",
       "0                               Wingfoot Air Express  \n",
       "1                                           Accident  \n",
       "2                                      July 21, 1919  \n",
       "3                                     In-flight fire  \n",
       "4  Chicago, Illinois, United States .mw-parser-ou...  "
      ]
     },
     "execution_count": 6,
     "metadata": {},
     "output_type": "execute_result"
    }
   ],
   "source": [
    "#loading the excel into a dataframe\n",
    "df = pd.read_excel('./Data/scraped_data.xlsx')\n",
    "df.head()"
   ]
  },
  {
   "attachments": {},
   "cell_type": "markdown",
   "metadata": {},
   "source": [
    "### creating an Accident ID column to not mix data"
   ]
  },
  {
   "attachments": {},
   "cell_type": "markdown",
   "metadata": {},
   "source": [
    "### reorder columns"
   ]
  }
 ],
 "metadata": {
  "kernelspec": {
   "display_name": "base",
   "language": "python",
   "name": "python3"
  },
  "language_info": {
   "codemirror_mode": {
    "name": "ipython",
    "version": 3
   },
   "file_extension": ".py",
   "mimetype": "text/x-python",
   "name": "python",
   "nbconvert_exporter": "python",
   "pygments_lexer": "ipython3",
   "version": "3.9.15"
  },
  "orig_nbformat": 4,
  "vscode": {
   "interpreter": {
    "hash": "575c6bd5a177b5d132fcde8274b913f3c21b7e73d51aa963022e53c12c855868"
   }
  }
 },
 "nbformat": 4,
 "nbformat_minor": 2
}
