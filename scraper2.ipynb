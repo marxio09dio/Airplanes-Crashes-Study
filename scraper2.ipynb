{
 "cells": [
  {
   "attachments": {},
   "cell_type": "markdown",
   "metadata": {},
   "source": [
    "### Scrap all accident tables from http://www.planecrashinfo.com/database.htm"
   ]
  },
  {
   "cell_type": "code",
   "execution_count": 31,
   "metadata": {},
   "outputs": [],
   "source": [
    "import requests\n",
    "from bs4 import BeautifulSoup\n",
    "import pandas as pd\n",
    "import time\n",
    "import random"
   ]
  },
  {
   "cell_type": "code",
   "execution_count": 78,
   "metadata": {},
   "outputs": [],
   "source": [
    "url = \"http://www.planecrashinfo.com/database.htm\"\n",
    "response = requests.get(url)\n",
    "soup = BeautifulSoup(response.content, \"html.parser\")\n",
    "\n",
    "links = []\n",
    "#assign the links scraped into the var links\n",
    "for link in soup.find_all(\"a\"):\n",
    "    if not link.get(\"href\").startswith(\"/\"):\n",
    "        links.append(\"http://www.planecrashinfo.com/\" + link.get(\"href\"))\n",
    "    else:\n",
    "        links.append(\"http://www.planecrashinfo.com\" + link.get(\"href\"))\n",
    "\n",
    "#remoeve the last 4 strings from each url\n",
    "links_sliced = [link[:-4] for link in links]\n",
    "\n",
    "#append -1 to -150 to each url, do to the way the urls are constructed can't find a better solution\n",
    "new_links = []\n",
    "for link in links_sliced:\n",
    "    for i in range(-1, -151, -1):\n",
    "        new_link = link + str(i) + str('.htm')\n",
    "        new_links.append(new_link)"
   ]
  },
  {
   "cell_type": "code",
   "execution_count": null,
   "metadata": {},
   "outputs": [],
   "source": [
    "combined_df = pd.DataFrame() # empty dataframe\n",
    "\n",
    "for url in new_links:\n",
    "    response = requests.get(url)\n",
    "    time.sleep(random.uniform(0, 2)) #random delay\n",
    "    soup = BeautifulSoup(response.text, 'html.parser')\n",
    "    tables = soup.find_all('table')\n",
    "    if tables:\n",
    "        tablll = pd.read_html(str(tables[0]), flavor='bs4')[0] #look for the table and assign to the tablll var\n",
    "        combined_df = pd.concat([combined_df, tablll], ignore_index=True) #merge all the tables from each url into the combined_df dataframe\n",
    "    else:\n",
    "        print(f\"No tables found on {url}\") #print an error if no table is found"
   ]
  },
  {
   "attachments": {},
   "cell_type": "markdown",
   "metadata": {},
   "source": [
    "### save the dataframe in an excel file"
   ]
  },
  {
   "cell_type": "code",
   "execution_count": 83,
   "metadata": {},
   "outputs": [],
   "source": [
    "combined_df.to_excel('data.xlsx', index=False)"
   ]
  }
 ],
 "metadata": {
  "kernelspec": {
   "display_name": "base",
   "language": "python",
   "name": "python3"
  },
  "language_info": {
   "codemirror_mode": {
    "name": "ipython",
    "version": 3
   },
   "file_extension": ".py",
   "mimetype": "text/x-python",
   "name": "python",
   "nbconvert_exporter": "python",
   "pygments_lexer": "ipython3",
   "version": "3.9.15"
  },
  "orig_nbformat": 4,
  "vscode": {
   "interpreter": {
    "hash": "575c6bd5a177b5d132fcde8274b913f3c21b7e73d51aa963022e53c12c855868"
   }
  }
 },
 "nbformat": 4,
 "nbformat_minor": 2
}
