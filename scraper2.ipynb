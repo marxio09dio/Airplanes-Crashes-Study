{
 "cells": [
  {
   "attachments": {},
   "cell_type": "markdown",
   "metadata": {},
   "source": [
    "### wworking to extract the tables on the URL of the year"
   ]
  },
  {
   "cell_type": "code",
   "execution_count": 31,
   "metadata": {},
   "outputs": [],
   "source": [
    "import requests\n",
    "from bs4 import BeautifulSoup\n",
    "import pandas as pd\n",
    "import time\n",
    "import random"
   ]
  },
  {
   "cell_type": "code",
   "execution_count": 78,
   "metadata": {},
   "outputs": [],
   "source": [
    "url = \"http://www.planecrashinfo.com/database.htm\"\n",
    "response = requests.get(url)\n",
    "soup = BeautifulSoup(response.content, \"html.parser\")\n",
    "\n",
    "links = []\n",
    "#assign the links scraped into the var links\n",
    "for link in soup.find_all(\"a\"):\n",
    "    if not link.get(\"href\").startswith(\"/\"):\n",
    "        links.append(\"http://www.planecrashinfo.com/\" + link.get(\"href\"))\n",
    "    else:\n",
    "        links.append(\"http://www.planecrashinfo.com\" + link.get(\"href\"))\n",
    "\n",
    "#remoeve the last 4 strings from each url\n",
    "links_sliced = [link[:-4] for link in links]\n",
    "\n",
    "#append -1 to -150 to each url, do to the way the urls are constructed can't find a better solution\n",
    "new_links = []\n",
    "for link in links_sliced:\n",
    "    for i in range(-1, -151, -1):\n",
    "        new_link = link + str(i) + str('.htm')\n",
    "        new_links.append(new_link)"
   ]
  },
  {
   "cell_type": "code",
   "execution_count": null,
   "metadata": {},
   "outputs": [],
   "source": [
    "combined_df = pd.DataFrame() # empty dataframe\n",
    "\n",
    "for url in new_links:\n",
    "    response = requests.get(url)\n",
    "    time.sleep(random.uniform(0, 2)) #random delay\n",
    "    soup = BeautifulSoup(response.text, 'html.parser')\n",
    "    tables = soup.find_all('table')\n",
    "    if tables:\n",
    "        tablll = pd.read_html(str(tables[0]), flavor='bs4')[0] #look for the table and assign to the tablll var\n",
    "        combined_df = pd.concat([combined_df, tablll], ignore_index=True) #merge all the tables from each url into the combined_df dataframe\n",
    "    else:\n",
    "        print(f\"No tables found on {url}\") #print an error if no table is found"
   ]
  },
  {
   "cell_type": "code",
   "execution_count": 83,
   "metadata": {},
   "outputs": [],
   "source": [
    "combined_df.to_excel('data.xlsx', index=False)"
   ]
  },
  {
   "cell_type": "markdown",
   "metadata": {},
   "source": []
  },
  {
   "cell_type": "markdown",
   "metadata": {},
   "source": []
  },
  {
   "cell_type": "markdown",
   "metadata": {},
   "source": []
  },
  {
   "attachments": {},
   "cell_type": "markdown",
   "metadata": {},
   "source": [
    "### below is code, need to change cell for code "
   ]
  },
  {
   "cell_type": "markdown",
   "metadata": {},
   "source": [
    "url = \"http://www.planecrashinfo.com/1920/1920.htm\"\n",
    "response = requests.get(url)\n",
    "soup = BeautifulSoup(response.text, \"html.parser\")\n",
    "base_url = \"http://www.planecrashinfo.com/1920/\"\n",
    "\n",
    "# Empty list to store the URLs\n",
    "urls = []\n",
    "\n",
    "for link in soup.find_all(\"a\"):\n",
    "    link_url = link.get(\"href\")\n",
    "    if link_url:\n",
    "        full_url = base_url + link_url\n",
    "        urls.append(full_url)\n",
    "\n",
    "# empty dataframe\n",
    "combined_df = pd.DataFrame()\n",
    "\n",
    "for url in urls:\n",
    "    response = requests.get(url)  # change urls to url\n",
    "    soup = BeautifulSoup(response.text, 'html.parser')\n",
    "    tables = soup.find_all('table')\n",
    "    if tables:\n",
    "        tablll = pd.read_html(str(tables[0]), flavor='bs4')[0]\n",
    "        combined_df = pd.concat([combined_df, tablll], ignore_index=True)\n",
    "    else:\n",
    "        print(f\"No tables found on {url}\")"
   ]
  },
  {
   "cell_type": "code",
   "execution_count": 36,
   "metadata": {},
   "outputs": [
    {
     "data": {
      "text/html": [
       "<div>\n",
       "<style scoped>\n",
       "    .dataframe tbody tr th:only-of-type {\n",
       "        vertical-align: middle;\n",
       "    }\n",
       "\n",
       "    .dataframe tbody tr th {\n",
       "        vertical-align: top;\n",
       "    }\n",
       "\n",
       "    .dataframe thead th {\n",
       "        text-align: right;\n",
       "    }\n",
       "</style>\n",
       "<table border=\"1\" class=\"dataframe\">\n",
       "  <thead>\n",
       "    <tr style=\"text-align: right;\">\n",
       "      <th></th>\n",
       "      <th>0</th>\n",
       "      <th>1</th>\n",
       "    </tr>\n",
       "  </thead>\n",
       "  <tbody>\n",
       "    <tr>\n",
       "      <th>0</th>\n",
       "      <td>-</td>\n",
       "      <td>ACCIDENT DETAILS</td>\n",
       "    </tr>\n",
       "    <tr>\n",
       "      <th>1</th>\n",
       "      <td>Date:</td>\n",
       "      <td>September 17, 1908</td>\n",
       "    </tr>\n",
       "    <tr>\n",
       "      <th>2</th>\n",
       "      <td>Time:</td>\n",
       "      <td>1718</td>\n",
       "    </tr>\n",
       "    <tr>\n",
       "      <th>3</th>\n",
       "      <td>Location:</td>\n",
       "      <td>Fort Myer, Virginia</td>\n",
       "    </tr>\n",
       "    <tr>\n",
       "      <th>4</th>\n",
       "      <td>Operator:</td>\n",
       "      <td>Military - U.S. Army</td>\n",
       "    </tr>\n",
       "    <tr>\n",
       "      <th>...</th>\n",
       "      <td>...</td>\n",
       "      <td>...</td>\n",
       "    </tr>\n",
       "    <tr>\n",
       "      <th>709</th>\n",
       "      <td>cn / ln:</td>\n",
       "      <td>57</td>\n",
       "    </tr>\n",
       "    <tr>\n",
       "      <th>710</th>\n",
       "      <td>Aboard:</td>\n",
       "      <td>1 (passengers:0 crew:1)</td>\n",
       "    </tr>\n",
       "    <tr>\n",
       "      <th>711</th>\n",
       "      <td>Fatalities:</td>\n",
       "      <td>1 (passengers:0 crew:1)</td>\n",
       "    </tr>\n",
       "    <tr>\n",
       "      <th>712</th>\n",
       "      <td>Ground:</td>\n",
       "      <td>0</td>\n",
       "    </tr>\n",
       "    <tr>\n",
       "      <th>713</th>\n",
       "      <td>Summary:</td>\n",
       "      <td>The aircraft stalled and crashed when an engin...</td>\n",
       "    </tr>\n",
       "  </tbody>\n",
       "</table>\n",
       "<p>714 rows × 2 columns</p>\n",
       "</div>"
      ],
      "text/plain": [
       "               0                                                  1\n",
       "0              -                                   ACCIDENT DETAILS\n",
       "1          Date:                                 September 17, 1908\n",
       "2          Time:                                               1718\n",
       "3      Location:                                Fort Myer, Virginia\n",
       "4      Operator:                               Military - U.S. Army\n",
       "..           ...                                                ...\n",
       "709     cn / ln:                                                 57\n",
       "710      Aboard:                            1 (passengers:0 crew:1)\n",
       "711  Fatalities:                            1 (passengers:0 crew:1)\n",
       "712      Ground:                                                  0\n",
       "713     Summary:  The aircraft stalled and crashed when an engin...\n",
       "\n",
       "[714 rows x 2 columns]"
      ]
     },
     "execution_count": 36,
     "metadata": {},
     "output_type": "execute_result"
    }
   ],
   "source": [
    "combined_df"
   ]
  },
  {
   "cell_type": "markdown",
   "metadata": {},
   "source": [
    "header_row = 0\n",
    "combined_df.columns = combined_df.iloc[header_row]\n",
    "\n",
    "# Convert row to column header using DataFrame.iloc[]\n",
    "combined_df.columns = combined_df.iloc[0]\n",
    "combined_df"
   ]
  },
  {
   "cell_type": "markdown",
   "metadata": {},
   "source": []
  },
  {
   "cell_type": "markdown",
   "metadata": {},
   "source": []
  },
  {
   "cell_type": "markdown",
   "metadata": {},
   "source": []
  },
  {
   "cell_type": "markdown",
   "metadata": {},
   "source": []
  },
  {
   "cell_type": "code",
   "execution_count": null,
   "metadata": {},
   "outputs": [],
   "source": []
  },
  {
   "cell_type": "code",
   "execution_count": null,
   "metadata": {},
   "outputs": [],
   "source": []
  },
  {
   "cell_type": "code",
   "execution_count": null,
   "metadata": {},
   "outputs": [],
   "source": []
  }
 ],
 "metadata": {
  "kernelspec": {
   "display_name": "base",
   "language": "python",
   "name": "python3"
  },
  "language_info": {
   "codemirror_mode": {
    "name": "ipython",
    "version": 3
   },
   "file_extension": ".py",
   "mimetype": "text/x-python",
   "name": "python",
   "nbconvert_exporter": "python",
   "pygments_lexer": "ipython3",
   "version": "3.9.15"
  },
  "orig_nbformat": 4,
  "vscode": {
   "interpreter": {
    "hash": "575c6bd5a177b5d132fcde8274b913f3c21b7e73d51aa963022e53c12c855868"
   }
  }
 },
 "nbformat": 4,
 "nbformat_minor": 2
}
